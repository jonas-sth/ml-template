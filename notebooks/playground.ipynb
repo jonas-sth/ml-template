{
 "cells": [
  {
   "cell_type": "markdown",
   "source": [
    "# This notebook is purely meant for testing things out"
   ],
   "metadata": {
    "collapsed": false
   }
  },
  {
   "cell_type": "code",
   "execution_count": 1,
   "outputs": [],
   "source": [
    "import inspect\n",
    "import os\n",
    "from time import sleep\n",
    "\n",
    "import numpy as np\n",
    "import torch\n",
    "from torch.utils.data import DataLoader\n",
    "from torch.utils.tensorboard import SummaryWriter\n",
    "import torchmetrics\n",
    "from sklearn.model_selection import KFold\n",
    "from torchvision.transforms import transforms\n",
    "from tqdm import tqdm\n",
    "\n",
    "from src.s00_utils import configs, constants\n",
    "from src.s01_data import datasets\n",
    "from src.s03_modelling import models\n",
    "from src.s04_training import runners, train"
   ],
   "metadata": {
    "collapsed": false
   }
  },
  {
   "cell_type": "code",
   "execution_count": 2,
   "outputs": [],
   "source": [
    "config = train.create_config()"
   ],
   "metadata": {
    "collapsed": false
   }
  },
  {
   "cell_type": "code",
   "execution_count": 3,
   "outputs": [
    {
     "data": {
      "text/plain": "Config(runner=CustomKFoldRunner(\n  num_folds: 5\n  num_epochs: 20\n  batch_size: 32\n  device: cpu\n), data=CustomImageDataset(\n  image_dir: C:\\Users\\E8J0G0K\\Documents\\Repos\\ml-template\\data\\d01_raw\\mnist\\train\n  label_path: C:\\Users\\E8J0G0K\\Documents\\Repos\\ml-template\\data\\d01_raw\\mnist\\train\\labels.csv\n  transform: Compose(\n    ToTensor()\n    Grayscale(num_output_channels=1)\n    Normalize(mean=0.5, std=0.2)\n  )\n), model=CustomConvNet(\n  (conv1): Conv2d(1, 10, kernel_size=(5, 5), stride=(1, 1))\n  (conv2): Conv2d(10, 20, kernel_size=(5, 5), stride=(1, 1))\n  (conv2_drop): Dropout2d(p=0.5, inplace=False)\n  (fc1): Linear(in_features=320, out_features=50, bias=True)\n  (fc2): Linear(in_features=50, out_features=10, bias=True)\n), optimizer=SGD (\nParameter Group 0\n    dampening: 0\n    foreach: None\n    lr: 0.01\n    maximize: False\n    momentum: 0.001\n    nesterov: False\n    weight_decay: 0\n), loss_function=CrossEntropyLoss(), accuracy_function=Accuracy())"
     },
     "execution_count": 3,
     "metadata": {},
     "output_type": "execute_result"
    }
   ],
   "source": [
    "config"
   ],
   "metadata": {
    "collapsed": false
   }
  },
  {
   "cell_type": "code",
   "execution_count": 6,
   "outputs": [
    {
     "data": {
      "text/plain": "'hi CustomKFoldRunner(\\n  num_folds: 5\\n  num_epochs: 20\\n  batch_size: 32\\n  device: cpu\\n)'"
     },
     "execution_count": 6,
     "metadata": {},
     "output_type": "execute_result"
    }
   ],
   "source": [
    "f\"hi {config.runner}\""
   ],
   "metadata": {
    "collapsed": false
   }
  },
  {
   "cell_type": "code",
   "execution_count": 3,
   "outputs": [],
   "source": [
    "from torchvision import transforms\n",
    "\n",
    "t = transforms.Compose([\n",
    "        transforms.ToTensor(),\n",
    "        transforms.Grayscale(),\n",
    "        transforms.Normalize(0.5, 0.2),\n",
    "    ])"
   ],
   "metadata": {
    "collapsed": false
   }
  },
  {
   "cell_type": "code",
   "execution_count": 4,
   "outputs": [
    {
     "data": {
      "text/plain": "Compose(\n    ToTensor()\n    Grayscale(num_output_channels=1)\n    Normalize(mean=0.5, std=0.2)\n)"
     },
     "execution_count": 4,
     "metadata": {},
     "output_type": "execute_result"
    }
   ],
   "source": [
    "t"
   ],
   "metadata": {
    "collapsed": false
   }
  },
  {
   "cell_type": "code",
   "execution_count": null,
   "outputs": [],
   "source": [],
   "metadata": {
    "collapsed": false
   }
  },
  {
   "cell_type": "code",
   "execution_count": 76,
   "outputs": [],
   "source": [
    "from torch import nn\n",
    "import torch.nn.functional as F\n",
    "\n",
    "\n",
    "class CustomConvNet(nn.Module):\n",
    "    def __init__(self, weight_init, activation):\n",
    "        super(CustomConvNet, self).__init__()\n",
    "        # Configs\n",
    "        self.weight_init = weight_init\n",
    "        self.activation = activation\n",
    "        # Layers\n",
    "        self.conv1 = nn.Conv2d(1, 10, kernel_size=5)\n",
    "        self.conv2 = nn.Conv2d(10, 20, kernel_size=5)\n",
    "        self.conv2_drop = nn.Dropout2d()\n",
    "        self.fc1 = nn.Linear(320, 50)\n",
    "        self.fc2 = nn.Linear(50, 10)\n",
    "\n",
    "    def forward(self, x):\n",
    "        x = F.relu(F.max_pool2d(self.conv1(x), 2))\n",
    "        x = F.relu(F.max_pool2d(self.conv2_drop(self.conv2(x)), 2))\n",
    "        x = x.view(-1, 320)\n",
    "        x = F.relu(self.fc1(x))\n",
    "        x = F.dropout(x, training=self.training)\n",
    "        x = self.fc2(x)\n",
    "        return F.log_softmax(x, 1)\n",
    "\n",
    "    def init_weights(self):\n",
    "        self.apply(self.weight_init)\n",
    "\n",
    "    def __repr__(self):\n",
    "        return super(CustomConvNet, self).__repr__() +\"\\n\" \\\n",
    "                                                      f\"{inspect.getsource(self.weight_init)}\\n\" \\\n",
    "                                                      f\"Activation: {self.activation}\""
   ],
   "metadata": {
    "collapsed": false
   }
  },
  {
   "cell_type": "code",
   "execution_count": 77,
   "outputs": [],
   "source": [
    "def xavier_weight_init(m):\n",
    "    if isinstance(m, nn.Conv2d):\n",
    "        nn.init.xavier_uniform(m.weight)\n",
    "        m.bias.data.fill_(0.01)"
   ],
   "metadata": {
    "collapsed": false
   }
  },
  {
   "cell_type": "code",
   "execution_count": 78,
   "outputs": [],
   "source": [
    "model = CustomConvNet(xavier_weight_init, F.relu)"
   ],
   "metadata": {
    "collapsed": false
   }
  },
  {
   "cell_type": "code",
   "execution_count": 79,
   "outputs": [
    {
     "data": {
      "text/plain": "CustomConvNet(\n  (conv1): Conv2d(1, 10, kernel_size=(5, 5), stride=(1, 1))\n  (conv2): Conv2d(10, 20, kernel_size=(5, 5), stride=(1, 1))\n  (conv2_drop): Dropout2d(p=0.5, inplace=False)\n  (fc1): Linear(in_features=320, out_features=50, bias=True)\n  (fc2): Linear(in_features=50, out_features=10, bias=True)\n)\ndef xavier_weight_init(m):\n    if isinstance(m, nn.Conv2d):\n        nn.init.xavier_uniform(m.weight)\n        m.bias.data.fill_(0.01)\n\nActivation: <function relu at 0x000001EDDACAD9D0>"
     },
     "execution_count": 79,
     "metadata": {},
     "output_type": "execute_result"
    }
   ],
   "source": [
    "model"
   ],
   "metadata": {
    "collapsed": false
   }
  },
  {
   "cell_type": "code",
   "execution_count": 82,
   "outputs": [
    {
     "data": {
      "text/plain": "'<function relu at 0x000001EDDACAD9D0>'"
     },
     "execution_count": 82,
     "metadata": {},
     "output_type": "execute_result"
    }
   ],
   "source": [
    "F.relu."
   ],
   "metadata": {
    "collapsed": false
   }
  },
  {
   "cell_type": "code",
   "execution_count": 83,
   "outputs": [],
   "source": [
    "class CustomWeightInit:\n",
    "    def __init__(self, conv_init, bias):\n",
    "        self.conv_init = conv_init\n",
    "        self.bias =\n",
    "\n",
    "    def weight_init(self, m):\n",
    "        if isinstance(m, nn.Conv2d):\n",
    "            self.conv_init(m.weight)\n",
    "\n",
    "    def __repr__(self):\n",
    "        return inspect.getsource(self.weight_init)"
   ],
   "metadata": {
    "collapsed": false
   }
  },
  {
   "cell_type": "code",
   "execution_count": 65,
   "outputs": [],
   "source": [
    "weight_init = CustomWeightInit(xavier_weight_init)"
   ],
   "metadata": {
    "collapsed": false
   }
  },
  {
   "cell_type": "code",
   "execution_count": 66,
   "outputs": [
    {
     "data": {
      "text/plain": "def xavier_weight_init(m):\n    if isinstance(m, nn.Conv2d):\n        nn.init.xavier_uniform(m.weight)\n        m.bias.data.fill_(0.01)"
     },
     "execution_count": 66,
     "metadata": {},
     "output_type": "execute_result"
    }
   ],
   "source": [
    "weight_init"
   ],
   "metadata": {
    "collapsed": false
   }
  },
  {
   "cell_type": "code",
   "execution_count": 67,
   "outputs": [
    {
     "name": "stderr",
     "output_type": "stream",
     "text": [
      "C:\\Users\\E8J0G0K\\AppData\\Local\\Temp\\ipykernel_4060\\2205828600.py:3: UserWarning: nn.init.xavier_uniform is now deprecated in favor of nn.init.xavier_uniform_.\n",
      "  nn.init.xavier_uniform(m.weight)\n"
     ]
    }
   ],
   "source": [
    "weight_init.apply(model)"
   ],
   "metadata": {
    "collapsed": false
   }
  },
  {
   "cell_type": "code",
   "execution_count": 2,
   "outputs": [
    {
     "data": {
      "text/plain": "CustomConvNetSequential(\n  (conv1): Conv2d(1, 10, kernel_size=(5, 5), stride=(1, 1))\n  (conv2): Conv2d(10, 20, kernel_size=(5, 5), stride=(1, 1))\n  (conv2_drop): Dropout2d(p=0.5, inplace=False)\n  (fc1): Linear(in_features=320, out_features=50, bias=True)\n  (fc2): Linear(in_features=50, out_features=10, bias=True)\n  (layers): Sequential(\n    (0): Conv2d(1, 10, kernel_size=(3, 3), stride=(1, 1))\n    (1): ReLU()\n    (2): Conv2d(10, 5, kernel_size=(3, 3), stride=(1, 1))\n    (3): ReLU()\n    (4): Flatten(start_dim=1, end_dim=-1)\n    (5): Linear(in_features=2880, out_features=64, bias=True)\n    (6): ReLU()\n    (7): Linear(in_features=64, out_features=32, bias=True)\n    (8): ReLU()\n    (9): Linear(in_features=32, out_features=10, bias=True)\n  )\n)"
     },
     "execution_count": 2,
     "metadata": {},
     "output_type": "execute_result"
    }
   ],
   "source": [
    "models.CustomConvNetSequential()"
   ],
   "metadata": {
    "collapsed": false
   }
  },
  {
   "cell_type": "code",
   "execution_count": null,
   "outputs": [],
   "source": [],
   "metadata": {
    "collapsed": false
   }
  },
  {
   "cell_type": "code",
   "execution_count": 89,
   "outputs": [
    {
     "data": {
      "text/plain": "tensor([[[-2.5000, -2.5000, -2.5000, -2.5000, -2.5000, -2.5000, -2.5000,\n          -2.5000, -2.3824, -2.5000, -2.2843, -2.5000, -2.2647, -2.4804,\n          -2.3432, -2.3824, -2.4804, -2.4216, -2.4608, -2.4804, -2.5000,\n          -2.4216, -2.2843, -2.4412, -2.5000, -2.5000, -2.5000, -2.5000],\n         [-2.5000, -2.5000, -2.5000, -2.5000, -2.5000, -2.5000, -2.5000,\n          -2.5000, -2.4804, -2.5000, -2.3432, -2.5000, -2.4412, -2.4608,\n          -2.4804, -2.4216, -2.5000, -2.4412, -2.5000, -2.4804, -2.2843,\n          -2.4216, -2.5000, -2.4804, -2.5000, -2.5000, -2.5000, -2.5000],\n         [-2.5000, -2.5000, -2.5000, -2.5000, -2.5000, -2.5000, -2.5000,\n          -2.5000, -2.5000, -2.4020, -2.5000, -2.4412, -2.4216, -2.5000,\n          -2.4608, -2.4412, -2.2059, -2.4412, -2.5000, -2.3824, -2.2255,\n          -2.4804, -2.4804, -2.0491, -2.5000, -2.5000, -2.5000, -2.5000],\n         [-2.5000, -2.5000, -2.5000, -2.5000, -2.5000, -2.5000, -2.5000,\n          -2.5000, -2.4020, -2.3628, -2.3235, -2.5000, -2.5000, -2.4608,\n          -2.5000, -2.3628, -2.4804, -2.5000, -2.4608, -2.5000, -2.4608,\n          -2.3039, -2.3824, -2.5000, -2.5000, -2.5000, -2.5000, -2.5000],\n         [-2.5000, -2.5000, -2.5000, -2.5000, -2.5000, -2.5000, -2.5000,\n          -2.5000, -2.3824, -2.5000, -2.5000, -2.4608, -2.2255, -2.5000,\n          -2.4804, -2.4804, -2.2647, -2.5000, -2.2647, -2.1275, -2.4804,\n          -2.4608, -2.4020, -2.4608, -2.5000, -2.5000, -2.5000, -2.5000],\n         [-2.5000, -2.5000, -2.5000, -2.5000, -2.5000, -2.5000, -2.5000,\n          -2.5000, -2.4020, -2.4608, -2.2843, -1.5981,  1.4408,  2.4603,\n           2.4995,  0.1468, -0.2649, -1.9314, -2.5000, -2.3039, -2.5000,\n          -2.5000, -2.2451, -2.3824, -2.5000, -2.5000, -2.5000, -2.5000],\n         [-2.5000, -2.5000, -2.5000, -2.5000, -2.5000, -2.5000, -2.5000,\n          -2.5000, -2.5000, -2.4216, -0.7943,  1.3624,  2.4995,  2.1466,\n           2.2054,  2.4995,  2.3819,  2.4407,  2.0290,  0.3232, -1.5197,\n          -2.5000, -2.4412, -2.5000, -2.5000, -2.5000, -2.5000, -2.5000],\n         [-2.5000, -2.5000, -2.5000, -2.5000, -2.5000, -2.5000, -2.5000,\n          -2.5000, -2.4804, -0.5590,  1.7153,  2.4799,  2.4211,  2.4799,\n           2.4995,  2.4211,  2.4995,  2.3623,  2.2642,  2.4407,  2.0878,\n          -0.7551, -2.5000, -2.4020, -2.5000, -2.5000, -2.5000, -2.5000],\n         [-2.4216, -2.4804, -2.4804, -2.4216, -2.4608, -2.5000, -2.4412,\n          -2.4608, -2.3039,  1.7545,  2.3034,  2.4603,  2.3034,  2.4799,\n           2.3623,  2.4995,  2.3230,  2.4603,  2.4995,  2.3427,  2.4211,\n           1.6957, -2.2843, -2.3824, -2.5000, -2.5000, -2.5000, -2.5000],\n         [-2.3628, -2.4608, -2.5000, -2.5000, -2.5000, -2.5000, -2.5000,\n          -2.4804, -1.7942,  1.8917,  2.4407,  2.4995,  1.9701,  0.8918,\n           0.0488,  0.1860, -0.0493, -0.0493,  2.0094,  2.4995,  2.4995,\n           2.0878, -0.0493, -2.4216, -2.5000, -2.5000, -2.5000, -2.5000],\n         [-2.4804, -2.5000, -2.4608, -2.5000, -2.4804, -2.4412, -2.4608,\n          -2.0687,  0.8134,  2.3230,  2.3230,  1.8721, -1.5981, -2.5000,\n          -2.4412, -2.4020, -2.3432, -2.3235,  0.1664,  2.4995,  2.4015,\n           2.4995,  1.3624, -2.4608, -2.5000, -2.5000, -2.5000, -2.5000],\n         [-2.5000, -2.5000, -2.4216, -2.5000, -2.4804, -2.4020, -2.4412,\n          -1.5001,  2.4015,  2.4995,  2.3623,  2.1662, -2.4804, -2.4412,\n          -2.3824, -2.5000, -2.4804, -2.4804, -1.5785,  2.1662,  2.2054,\n           2.4995,  1.0291, -2.5000, -2.5000, -2.5000, -2.5000, -2.5000],\n         [-2.4412, -2.4804, -2.4608, -2.5000, -2.5000, -2.4412, -2.5000,\n          -0.9119,  2.3034,  2.1858,  2.3034,  1.3624, -2.5000, -2.3824,\n          -2.3235, -2.4412, -2.3628, -2.3628, -1.7746,  2.0682,  2.4211,\n           2.4799,  0.9506, -2.3824, -2.5000, -2.5000, -2.5000, -2.5000],\n         [-2.4804, -2.4804, -2.4804, -2.4804, -2.5000, -2.4216, -2.4804,\n           0.0292,  2.4995,  2.4995,  2.4211, -0.3041, -2.2451, -2.5000,\n          -2.4412, -2.4412, -2.5000, -2.5000, -0.8139,  2.3819,  2.4995,\n           2.3623,  1.0095, -2.5000, -2.5000, -2.5000, -2.5000, -2.5000],\n         [-2.5000, -2.4804, -2.4804, -2.3824, -2.4804, -2.4216, -2.4020,\n           0.9114,  2.2446,  2.4407,  2.3230, -0.6570, -2.3432, -2.5000,\n          -2.5000, -2.5000, -2.4804, -2.5000, -0.4806,  2.4995,  2.4407,\n           2.3427,  0.2448, -2.4216, -2.5000, -2.5000, -2.5000, -2.5000],\n         [-2.3824, -2.4216, -2.5000, -2.3824, -2.5000, -2.4804, -2.5000,\n           1.2055,  2.4799,  2.4995,  2.4799,  0.4997, -2.4608, -2.3039,\n          -2.5000, -2.4804, -2.4020, -2.3824, -0.8923,  2.4603,  2.4995,\n           2.3427, -1.0884, -2.4804, -2.5000, -2.5000, -2.5000, -2.5000],\n         [-2.5000, -2.5000, -2.3824, -2.5000, -2.3039, -2.4804, -2.4804,\n          -0.3434,  2.3623,  2.4015,  2.4995,  1.3820, -2.3628, -2.5000,\n          -2.4804, -2.2451, -2.4608, -2.2451,  1.0879,  2.4015,  2.3819,\n           2.4995, -1.5785, -2.4608, -2.5000, -2.5000, -2.5000, -2.5000],\n         [-2.5000, -2.5000, -2.3628, -2.5000, -2.3628, -2.4608, -2.5000,\n          -0.9315,  2.4407,  2.3230,  2.4995,  1.5780, -2.0099, -2.2843,\n          -2.3432, -2.4216, -1.3629,  0.6762,  2.4799,  2.4995,  2.4995,\n          -0.3630, -2.2451, -2.4020, -2.5000, -2.5000, -2.5000, -2.5000],\n         [-2.4804, -2.5000, -2.3628, -2.5000, -2.4804, -2.4412, -2.5000,\n          -1.7354,  2.1858,  2.4799,  2.4211,  2.4995, -0.4022, -2.5000,\n          -2.4216, -1.2452,  2.0094,  2.0878,  2.4799,  2.4995,  1.0487,\n          -2.2255, -2.3432, -2.5000, -2.5000, -2.5000, -2.5000, -2.5000],\n         [-2.4412, -2.4804, -2.3824, -2.5000, -2.5000, -2.4216, -2.4804,\n          -2.3235,  0.2056,  2.4603,  2.1858,  2.4799,  1.6368, -1.9902,\n          -1.2452,  2.0486,  2.4407,  2.4995,  2.4407,  2.2642, -2.0883,\n          -2.4608, -2.5000, -2.4020, -2.5000, -2.5000, -2.5000, -2.5000],\n         [-2.4216, -2.5000, -2.4216, -2.4804, -2.5000, -2.4020, -2.3824,\n          -2.5000, -1.5785,  2.4211,  2.4995,  2.1270,  2.4995,  0.7742,\n           0.8526,  2.4995,  2.1074,  2.4995,  2.4015, -1.0688, -2.4804,\n          -2.4608, -2.3824, -2.4608, -2.5000, -2.5000, -2.5000, -2.5000],\n         [-2.4608, -2.5000, -2.4804, -2.5000, -2.5000, -2.4412, -2.3628,\n          -2.5000, -2.4804,  1.7153,  2.4995,  2.2446,  2.4211,  2.4015,\n           2.4211,  2.1466,  2.4995,  1.9505, -0.7943, -2.5000, -2.4804,\n          -2.1863, -2.4608, -2.5000, -2.5000, -2.5000, -2.5000, -2.5000],\n         [-2.5000, -2.4804, -2.4804, -2.5000, -2.4608, -2.5000, -2.4412,\n          -2.4804, -2.4412, -1.0884,  1.5780,  2.4995,  2.3230,  2.4603,\n           2.4995,  2.4603,  2.1858, -0.3826, -2.4020, -2.5000, -2.5000,\n          -2.5000, -2.2451, -2.3432, -2.5000, -2.5000, -2.5000, -2.5000],\n         [-2.5000, -2.4020, -2.4412, -2.5000, -2.4020, -2.5000, -2.5000,\n          -2.4804, -2.3432, -2.4412,  0.1076,  2.4995,  2.3623,  2.3427,\n           2.2054,  2.4407,  0.3232, -2.3039, -2.4804, -2.1275, -2.5000,\n          -2.3824, -2.4804, -2.5000, -2.5000, -2.5000, -2.5000, -2.5000],\n         [-2.5000, -2.5000, -2.5000, -2.5000, -2.5000, -2.5000, -2.5000,\n          -2.5000, -2.2255, -2.5000, -2.2255, -0.3826,  1.7937,  2.2838,\n           0.6762, -1.1668, -2.5000, -2.5000, -2.5000, -2.5000, -2.5000,\n          -2.5000, -2.5000, -2.5000, -2.5000, -2.5000, -2.5000, -2.5000],\n         [-2.5000, -2.5000, -2.5000, -2.5000, -2.5000, -2.5000, -2.5000,\n          -2.5000, -2.5000, -2.4608, -2.4608, -2.5000, -2.4804, -2.4804,\n          -2.5000, -2.4804, -2.5000, -2.5000, -2.5000, -2.5000, -2.5000,\n          -2.5000, -2.5000, -2.5000, -2.5000, -2.5000, -2.5000, -2.5000],\n         [-2.5000, -2.5000, -2.5000, -2.5000, -2.5000, -2.5000, -2.5000,\n          -2.5000, -2.3824, -2.3824, -2.4412, -2.5000, -2.5000, -2.5000,\n          -2.5000, -2.5000, -2.5000, -2.5000, -2.5000, -2.5000, -2.5000,\n          -2.5000, -2.5000, -2.5000, -2.5000, -2.5000, -2.5000, -2.5000],\n         [-2.5000, -2.5000, -2.5000, -2.5000, -2.5000, -2.5000, -2.5000,\n          -2.5000, -2.5000, -2.5000, -2.5000, -2.5000, -2.4216, -2.3628,\n          -2.4216, -2.4608, -2.5000, -2.5000, -2.5000, -2.5000, -2.5000,\n          -2.5000, -2.5000, -2.5000, -2.5000, -2.5000, -2.5000, -2.5000]]])"
     },
     "execution_count": 89,
     "metadata": {},
     "output_type": "execute_result"
    }
   ],
   "source": [
    "config.data[0][0]"
   ],
   "metadata": {
    "collapsed": false
   }
  },
  {
   "cell_type": "code",
   "execution_count": null,
   "outputs": [],
   "source": [],
   "metadata": {
    "collapsed": false
   }
  },
  {
   "cell_type": "code",
   "execution_count": 8,
   "outputs": [],
   "source": [
    "from torch import nn\n",
    "\n",
    "def init_weights(m):\n",
    "    if isinstance(m, nn.Conv2d):\n",
    "        torch.nn.init.xavier_uniform(m.weight)\n",
    "        m.bias.data.fill_(0.01)"
   ],
   "metadata": {
    "collapsed": false
   }
  },
  {
   "cell_type": "code",
   "execution_count": 9,
   "outputs": [],
   "source": [
    "import torch\n",
    "torch.save(init_weights, \"test.pt\")"
   ],
   "metadata": {
    "collapsed": false
   }
  },
  {
   "cell_type": "code",
   "execution_count": 11,
   "outputs": [],
   "source": [
    "a = torch.load(\"test.pt\")"
   ],
   "metadata": {
    "collapsed": false
   }
  },
  {
   "cell_type": "code",
   "execution_count": 13,
   "outputs": [],
   "source": [
    "from src.s03_modelling import models\n",
    "\n",
    "net = models.SimpleNet()"
   ],
   "metadata": {
    "collapsed": false
   }
  },
  {
   "cell_type": "code",
   "execution_count": 14,
   "outputs": [
    {
     "name": "stderr",
     "output_type": "stream",
     "text": [
      "C:\\Users\\E8J0G0K\\AppData\\Local\\Temp\\ipykernel_9020\\699881287.py:5: UserWarning: nn.init.xavier_uniform is now deprecated in favor of nn.init.xavier_uniform_.\n",
      "  torch.nn.init.xavier_uniform(m.weight)\n"
     ]
    },
    {
     "data": {
      "text/plain": "SimpleNet(\n  (conv1): Conv2d(1, 10, kernel_size=(5, 5), stride=(1, 1))\n  (conv2): Conv2d(10, 20, kernel_size=(5, 5), stride=(1, 1))\n  (conv2_drop): Dropout2d(p=0.5, inplace=False)\n  (fc1): Linear(in_features=320, out_features=50, bias=True)\n  (fc2): Linear(in_features=50, out_features=10, bias=True)\n)"
     },
     "execution_count": 14,
     "metadata": {},
     "output_type": "execute_result"
    }
   ],
   "source": [
    "net.apply(a)"
   ],
   "metadata": {
    "collapsed": false
   }
  },
  {
   "cell_type": "code",
   "execution_count": 19,
   "outputs": [
    {
     "data": {
      "text/plain": "0"
     },
     "execution_count": 19,
     "metadata": {},
     "output_type": "execute_result"
    }
   ],
   "source": [
    "torch.cuda.device_count()"
   ],
   "metadata": {
    "collapsed": false
   }
  },
  {
   "cell_type": "code",
   "execution_count": 4,
   "outputs": [
    {
     "data": {
      "text/plain": "'Compose(\\n    ToTensor()\\n    Grayscale(num_output_channels=1)\\n    Normalize(mean=0.5, std=0.2)\\n)'"
     },
     "execution_count": 4,
     "metadata": {},
     "output_type": "execute_result"
    }
   ],
   "source": [
    "str(t)"
   ],
   "metadata": {
    "collapsed": false
   }
  },
  {
   "cell_type": "code",
   "execution_count": 5,
   "outputs": [],
   "source": [
    "import torch\n",
    "\n",
    "torch.save(t, \"test.pt\")"
   ],
   "metadata": {
    "collapsed": false
   }
  },
  {
   "cell_type": "code",
   "execution_count": 6,
   "outputs": [],
   "source": [
    "p = torch.load(\"test.pt\")"
   ],
   "metadata": {
    "collapsed": false
   }
  },
  {
   "cell_type": "code",
   "execution_count": 7,
   "outputs": [
    {
     "data": {
      "text/plain": "torchvision.transforms.transforms.Compose"
     },
     "execution_count": 7,
     "metadata": {},
     "output_type": "execute_result"
    }
   ],
   "source": [
    "type(p)"
   ],
   "metadata": {
    "collapsed": false
   }
  },
  {
   "cell_type": "code",
   "execution_count": 8,
   "outputs": [
    {
     "data": {
      "text/plain": "Compose(\n    ToTensor()\n    Grayscale(num_output_channels=1)\n    Normalize(mean=0.5, std=0.2)\n)"
     },
     "execution_count": 8,
     "metadata": {},
     "output_type": "execute_result"
    }
   ],
   "source": [
    "p"
   ],
   "metadata": {
    "collapsed": false
   }
  },
  {
   "cell_type": "code",
   "execution_count": 2,
   "outputs": [],
   "source": [
    "my_dict = {\n",
    "    \"Test\": 4324343,\n",
    "    \"Hello\": \"waddup?\"\n",
    "}"
   ],
   "metadata": {
    "collapsed": false
   }
  },
  {
   "cell_type": "code",
   "execution_count": 13,
   "outputs": [
    {
     "data": {
      "text/plain": "\"{'Test': 4324343, 'Hello': 'waddup?'}\""
     },
     "execution_count": 13,
     "metadata": {},
     "output_type": "execute_result"
    }
   ],
   "source": [
    "str(my_dict)"
   ],
   "metadata": {
    "collapsed": false
   }
  },
  {
   "cell_type": "code",
   "execution_count": null,
   "outputs": [],
   "source": [
    "def pretty(d, indent=0):\n",
    "   for key, value in d.items():\n",
    "      print('\\t' * indent + str(key))\n",
    "      if isinstance(value, dict):\n",
    "         pretty(value, indent+1)\n",
    "      else:\n",
    "         print('\\t' * (indent+1) + str(value))"
   ],
   "metadata": {
    "collapsed": false
   }
  },
  {
   "cell_type": "code",
   "execution_count": 20,
   "outputs": [
    {
     "name": "stdout",
     "output_type": "stream",
     "text": [
      "Test\n",
      "\t4324343\n",
      "Hello\n",
      "\twaddup?\n"
     ]
    }
   ],
   "source": [
    "pretty(my_dict)"
   ],
   "metadata": {
    "collapsed": false
   }
  },
  {
   "cell_type": "code",
   "execution_count": 1,
   "outputs": [],
   "source": [
    "from src.s00_utils import constants, configs\n",
    "from src.s01_data import datasets\n",
    "from src.s03_modelling import models\n",
    "import os\n",
    "import torch\n",
    "\n",
    "output_dir = os.path.join(constants.ROOT, \"models\", \"my_test\")\n",
    "\n",
    "# Initialize model\n",
    "train_model = models.SimpleNet()\n",
    "\n",
    "# Initialize data\n",
    "train_data = datasets.MNIST_Dataset\n",
    "\n",
    "# Initialize config\n",
    "train_config = configs.Config(\n",
    "    num_epochs=4,\n",
    "    batch_size=32,\n",
    "    learning_rate=0.01,\n",
    "    momentum=0.5,\n",
    "    num_folds=10,\n",
    "    device=torch.device(\"cpu\"),\n",
    "    data=train_data,\n",
    "    output_dir=output_dir,\n",
    ")"
   ],
   "metadata": {
    "collapsed": false
   }
  },
  {
   "cell_type": "code",
   "execution_count": 8,
   "outputs": [],
   "source": [
    "import dataclasses\n",
    "\n",
    "def as_tb_text(config):\n",
    "    # Transform the config to a dictionary\n",
    "    config_dict = dataclasses.asdict(config)\n",
    "\n",
    "    for key, value in config_dict.items():\n",
    "        if key == \"data\":\n",
    "            pass\n",
    "        elif key == \"device\"\n",
    "\n",
    "\n",
    "    return"
   ],
   "metadata": {
    "collapsed": false
   }
  },
  {
   "cell_type": "code",
   "execution_count": 9,
   "outputs": [
    {
     "name": "stdout",
     "output_type": "stream",
     "text": [
      "num_epochs 4\n",
      "batch_size 32\n",
      "learning_rate 0.01\n",
      "momentum 0.5\n",
      "num_folds 10\n",
      "device cpu\n",
      "data <src.s01_data.datasets.CustomImageDataset object at 0x0000023EB1836550>\n",
      "output_dir C:\\Users\\E8J0G0K\\Documents\\Repos\\ml-template\\models\\my_test\n"
     ]
    }
   ],
   "source": [
    "as_tb_text(train_config)"
   ],
   "metadata": {
    "collapsed": false
   }
  },
  {
   "cell_type": "code",
   "execution_count": null,
   "outputs": [],
   "source": [],
   "metadata": {
    "collapsed": false
   }
  },
  {
   "cell_type": "code",
   "execution_count": null,
   "outputs": [],
   "source": [],
   "metadata": {
    "collapsed": false
   }
  },
  {
   "cell_type": "code",
   "execution_count": null,
   "outputs": [],
   "source": [],
   "metadata": {
    "collapsed": false
   }
  },
  {
   "cell_type": "code",
   "execution_count": null,
   "outputs": [],
   "source": [],
   "metadata": {
    "collapsed": false
   }
  },
  {
   "cell_type": "code",
   "execution_count": null,
   "outputs": [],
   "source": [],
   "metadata": {
    "collapsed": false
   }
  },
  {
   "cell_type": "code",
   "execution_count": 2,
   "outputs": [
    {
     "data": {
      "text/plain": "{'num_epochs': 4,\n 'batch_size': 32,\n 'learning_rate': 0.01,\n 'momentum': 0.5,\n 'num_folds': 10,\n 'device': device(type='cpu'),\n 'data': <src.s01_data.datasets.CustomImageDataset at 0x23eb1088190>,\n 'output_dir': 'C:\\\\Users\\\\E8J0G0K\\\\Documents\\\\Repos\\\\ml-template\\\\models\\\\my_test'}"
     },
     "execution_count": 2,
     "metadata": {},
     "output_type": "execute_result"
    }
   ],
   "source": [
    "train_config.as_dict()"
   ],
   "metadata": {
    "collapsed": false
   }
  },
  {
   "cell_type": "code",
   "execution_count": 3,
   "outputs": [
    {
     "data": {
      "text/plain": "'C:\\\\Users\\\\E8J0G0K\\\\Documents\\\\Repos\\\\ml-template\\\\data\\\\mnist\\\\train\\\\labels.csv'"
     },
     "execution_count": 3,
     "metadata": {},
     "output_type": "execute_result"
    }
   ],
   "source": [
    "train_config.label_path"
   ],
   "metadata": {
    "collapsed": false
   }
  },
  {
   "cell_type": "code",
   "execution_count": 27,
   "outputs": [],
   "source": [
    "def pretty_config(d, indent=0):\n",
    "   for key, value in d.items():\n",
    "      print('\\t' * indent + str(key))\n",
    "      if isinstance(value, dict):\n",
    "         pretty(value, indent+1)\n",
    "      else:\n",
    "         print('\\t' * (indent+1) + str(value))"
   ],
   "metadata": {
    "collapsed": false
   }
  },
  {
   "cell_type": "code",
   "execution_count": 28,
   "outputs": [
    {
     "name": "stdout",
     "output_type": "stream",
     "text": [
      "num_epochs\n",
      "\t4\n",
      "batch_size\n",
      "\t32\n",
      "learning_rate\n",
      "\t0.01\n",
      "momentum\n",
      "\t0.5\n",
      "num_folds\n",
      "\t10\n",
      "device\n",
      "\tcpu\n",
      "data\n",
      "\t<src.s01_data.datasets.CustomImageDataset object at 0x00000146334B6CA0>\n",
      "output_dir\n",
      "\tC:\\Users\\E8J0G0K\\Documents\\Repos\\ml-template\\models\\my_test\n"
     ]
    }
   ],
   "source": [
    "import dataclasses\n",
    "\n",
    "pretty_config(dataclasses.asdict(train_config))"
   ],
   "metadata": {
    "collapsed": false
   }
  },
  {
   "cell_type": "code",
   "execution_count": 29,
   "outputs": [
    {
     "data": {
      "text/plain": "'{\"num_epochs\": 4, \"batch_size\": 32, \"learning_rate\": 0.01, \"momentum\": 0.5, \"num_folds\": 10, \"device\": \"cpu\", \"data\": [\"C:\\\\\\\\Users\\\\\\\\E8J0G0K\\\\\\\\Documents\\\\\\\\Repos\\\\\\\\ml-template\\\\\\\\data\\\\\\\\mnist\\\\\\\\train\", \"C:\\\\\\\\Users\\\\\\\\E8J0G0K\\\\\\\\Documents\\\\\\\\Repos\\\\\\\\ml-template\\\\\\\\data\\\\\\\\mnist\\\\\\\\train\\\\\\\\labels.csv\", \"Compose(\\\\n    ToTensor()\\\\n    Grayscale(num_output_channels=1)\\\\n    Normalize(mean=0.5, std=0.2)\\\\n)\"], \"output_dir\": \"C:\\\\\\\\Users\\\\\\\\E8J0G0K\\\\\\\\Documents\\\\\\\\Repos\\\\\\\\ml-template\\\\\\\\models\\\\\\\\my_test\"}'"
     },
     "execution_count": 29,
     "metadata": {},
     "output_type": "execute_result"
    }
   ],
   "source": [
    "train_config.as_dict()"
   ],
   "metadata": {
    "collapsed": false
   }
  },
  {
   "cell_type": "code",
   "execution_count": 42,
   "outputs": [
    {
     "data": {
      "text/plain": "'{  \\n  \"num_epochs\": 4,  \\n  \"batch_size\": 32,  \\n  \"learning_rate\": 0.01,  \\n  \"momentum\": 0.5,  \\n  \"num_folds\": 10,  \\n  \"device\": \"cpu\",  \\n  \"data\": [  \\n    \"C:\\\\\\\\Users\\\\\\\\E8J0G0K\\\\\\\\Documents\\\\\\\\Repos\\\\\\\\ml-template\\\\\\\\data\\\\\\\\mnist\\\\\\\\train\",  \\n    \"C:\\\\\\\\Users\\\\\\\\E8J0G0K\\\\\\\\Documents\\\\\\\\Repos\\\\\\\\ml-template\\\\\\\\data\\\\\\\\mnist\\\\\\\\train\\\\\\\\labels.csv\",  \\n    \"Compose(  \\n    ToTensor()  \\n    Grayscale(num_output_channels=1)  \\n    Normalize(mean=0.5, std=0.2)  \\n)\"  \\n  ],  \\n  \"output_dir\": \"C:\\\\\\\\Users\\\\\\\\E8J0G0K\\\\\\\\Documents\\\\\\\\Repos\\\\\\\\ml-template\\\\\\\\models\\\\\\\\my_test\"  \\n}'"
     },
     "execution_count": 42,
     "metadata": {},
     "output_type": "execute_result"
    }
   ],
   "source": [
    "from src.s00_utils.configs import CustomJsonEncoder\n",
    "import json\n",
    "json.dumps(dataclasses.asdict(train_config), cls=CustomJsonEncoder, indent=2).replace(\"\\\\n\", \"\\n\").replace(\"\\n\", \"  \\n\")"
   ],
   "metadata": {
    "collapsed": false
   }
  },
  {
   "cell_type": "code",
   "execution_count": 12,
   "outputs": [],
   "source": [
    "import json\n",
    "from torch.utils.tensorboard import SummaryWriter\n",
    "\n",
    "summary_dir = r\"C:\\Users\\E8J0G0K\\Documents\\Repos\\ml-template\\models\\my_test\\summary\"\n",
    "summary_writer = SummaryWriter(summary_dir)\n",
    "summary_writer.add_text(tag=\"Experiment\", text_string=str(json.dumps(my_dict, indent=2)).replace(\"\\n\", \"  \\n\"))\n",
    "summary_writer.close()"
   ],
   "metadata": {
    "collapsed": false
   }
  },
  {
   "cell_type": "code",
   "execution_count": 11,
   "outputs": [
    {
     "data": {
      "text/plain": "'{  \\n  \"Test\": 4324343,  \\n  \"Hello\": \"waddup?\"  \\n}'"
     },
     "execution_count": 11,
     "metadata": {},
     "output_type": "execute_result"
    }
   ],
   "source": [
    "str(json.dumps(my_dict, indent=2)).replace(\"\\n\", \"  \\n\")"
   ],
   "metadata": {
    "collapsed": false
   }
  },
  {
   "cell_type": "markdown",
   "source": [
    "*   Rot\n",
    "*   Grün\n",
    "*   Blau"
   ],
   "metadata": {
    "collapsed": false
   }
  },
  {
   "cell_type": "markdown",
   "source": [
    "**Learning rate:**"
   ],
   "metadata": {
    "collapsed": false
   }
  },
  {
   "cell_type": "markdown",
   "source": [
    "| Tables        | Are           | Cool  |\n",
    "| ------------- |:-------------:| -----:|\n",
    "| col 3 is      | right-aligned | $1600 |\n",
    "| col 2 is      | centered      |   $12 |\n",
    "| zebra stripes | are neat      |    $1 |"
   ],
   "metadata": {
    "collapsed": false
   }
  },
  {
   "cell_type": "code",
   "execution_count": 12,
   "outputs": [],
   "source": [
    "test = 3\n",
    "result = f\"| Param{test}eter | Value |  \\n\" \\\n",
    "             \"| --------- | ----- |  \\n\" \\\n",
    "             \"| \""
   ],
   "metadata": {
    "collapsed": false
   }
  },
  {
   "cell_type": "code",
   "execution_count": 60,
   "outputs": [
    {
     "data": {
      "text/plain": "True"
     },
     "execution_count": 60,
     "metadata": {},
     "output_type": "execute_result"
    }
   ],
   "source": [
    "isinstance(optimizer, torch.optim.Optimizer)"
   ],
   "metadata": {
    "collapsed": false
   }
  },
  {
   "cell_type": "code",
   "execution_count": 47,
   "outputs": [
    {
     "ename": "SyntaxError",
     "evalue": "invalid syntax (2260141108.py, line 3)",
     "output_type": "error",
     "traceback": [
      "\u001B[1;36m  Cell \u001B[1;32mIn [47], line 3\u001B[1;36m\u001B[0m\n\u001B[1;33m    optimizer = torch.optim.SGD(model.parameters(), kwargs=*train_config)\u001B[0m\n\u001B[1;37m                                                           ^\u001B[0m\n\u001B[1;31mSyntaxError\u001B[0m\u001B[1;31m:\u001B[0m invalid syntax\n"
     ]
    }
   ],
   "source": [
    "import torch\n",
    "model = models.SimpleNet()\n",
    "optimizer = torch.optim.SGD(model.parameters(), )\n",
    "optimizer"
   ],
   "metadata": {
    "collapsed": false
   }
  },
  {
   "cell_type": "code",
   "execution_count": 57,
   "outputs": [
    {
     "data": {
      "text/plain": "SGD (\nParameter Group 0\n    dampening: 0\n    foreach: None\n    lr: 0.001\n    maximize: False\n    momentum: 0.001\n    nesterov: False\n    weight_decay: 0\n)"
     },
     "execution_count": 57,
     "metadata": {},
     "output_type": "execute_result"
    }
   ],
   "source": [
    "optimizer"
   ],
   "metadata": {
    "collapsed": false
   }
  },
  {
   "cell_type": "code",
   "execution_count": 50,
   "outputs": [
    {
     "data": {
      "text/plain": "SimpleNet(\n  (conv1): Conv2d(1, 10, kernel_size=(5, 5), stride=(1, 1))\n  (conv2): Conv2d(10, 20, kernel_size=(5, 5), stride=(1, 1))\n  (conv2_drop): Dropout2d(p=0.5, inplace=False)\n  (fc1): Linear(in_features=320, out_features=50, bias=True)\n  (fc2): Linear(in_features=50, out_features=10, bias=True)\n)"
     },
     "execution_count": 50,
     "metadata": {},
     "output_type": "execute_result"
    }
   ],
   "source": [
    "model"
   ],
   "metadata": {
    "collapsed": false
   }
  },
  {
   "cell_type": "code",
   "execution_count": 29,
   "outputs": [],
   "source": [
    "loss = torch.nn.CrossEntropyLoss"
   ],
   "metadata": {
    "collapsed": false
   }
  },
  {
   "cell_type": "code",
   "execution_count": 56,
   "outputs": [
    {
     "data": {
      "text/plain": "CrossEntropyLoss()"
     },
     "execution_count": 56,
     "metadata": {},
     "output_type": "execute_result"
    }
   ],
   "source": [
    "loss()"
   ],
   "metadata": {
    "collapsed": false
   }
  },
  {
   "cell_type": "code",
   "execution_count": 42,
   "outputs": [
    {
     "data": {
      "text/plain": "torch.nn.modules.loss.CrossEntropyLoss"
     },
     "execution_count": 42,
     "metadata": {},
     "output_type": "execute_result"
    }
   ],
   "source": [
    "loss.c"
   ],
   "metadata": {
    "collapsed": false
   }
  },
  {
   "cell_type": "code",
   "execution_count": 43,
   "outputs": [
    {
     "data": {
      "text/plain": "\"<class 'torch.optim.sgd.SGD'>\""
     },
     "execution_count": 43,
     "metadata": {},
     "output_type": "execute_result"
    }
   ],
   "source": [
    "str(optimizer)"
   ],
   "metadata": {
    "collapsed": false
   }
  },
  {
   "cell_type": "code",
   "execution_count": 27,
   "outputs": [
    {
     "data": {
      "text/plain": "False"
     },
     "execution_count": 27,
     "metadata": {},
     "output_type": "execute_result"
    }
   ],
   "source": [
    "isinstance(optimizer, torch.optim.Optimizer)"
   ],
   "metadata": {
    "collapsed": false
   }
  },
  {
   "cell_type": "code",
   "execution_count": 34,
   "outputs": [
    {
     "data": {
      "text/plain": "True"
     },
     "execution_count": 34,
     "metadata": {},
     "output_type": "execute_result"
    }
   ],
   "source": [
    "isinstance(loss, type)"
   ],
   "metadata": {
    "collapsed": false
   }
  },
  {
   "cell_type": "code",
   "execution_count": 35,
   "outputs": [
    {
     "data": {
      "text/plain": "True"
     },
     "execution_count": 35,
     "metadata": {},
     "output_type": "execute_result"
    }
   ],
   "source": [
    "callable(loss)"
   ],
   "metadata": {
    "collapsed": false
   }
  },
  {
   "cell_type": "code",
   "execution_count": 33,
   "outputs": [
    {
     "data": {
      "text/plain": "type"
     },
     "execution_count": 33,
     "metadata": {},
     "output_type": "execute_result"
    }
   ],
   "source": [
    "loss.__class__"
   ],
   "metadata": {
    "collapsed": false
   }
  },
  {
   "cell_type": "code",
   "execution_count": 9,
   "outputs": [],
   "source": [
    "from src.s00_utils import configs\n",
    "\n",
    "train_data = datasets.MNIST_Dataset\n",
    "\n",
    "# Initialize config\n",
    "train_config = configs.Config(\n",
    "    num_epochs=4,\n",
    "    batch_size=1024,\n",
    "    learning_rate=0.01,\n",
    "    momentum=0.5,\n",
    "    num_folds=2,\n",
    "    data=train_data\n",
    ")"
   ],
   "metadata": {
    "collapsed": false
   }
  },
  {
   "cell_type": "code",
   "execution_count": null,
   "outputs": [],
   "source": [],
   "metadata": {
    "collapsed": false
   }
  },
  {
   "cell_type": "code",
   "execution_count": 10,
   "outputs": [
    {
     "data": {
      "text/plain": "{'num_epochs': 4,\n 'batch_size': 1024,\n 'learning_rate': 0.01,\n 'momentum': 0.5,\n 'num_folds': 2,\n 'data': <src.s01_data.datasets.CustomImageDataset at 0x26f2275e820>,\n 'output_dir': 'D:\\\\GitRepos\\\\MyGitHub\\\\ml-template\\\\models\\\\run_20221009-161209'}"
     },
     "execution_count": 10,
     "metadata": {},
     "output_type": "execute_result"
    }
   ],
   "source": [
    "train_config.as_dict()"
   ],
   "metadata": {
    "collapsed": false
   }
  },
  {
   "cell_type": "code",
   "execution_count": 11,
   "outputs": [],
   "source": [
    "# train_config.to_file()"
   ],
   "metadata": {
    "collapsed": false
   }
  },
  {
   "cell_type": "code",
   "execution_count": 14,
   "outputs": [],
   "source": [
    "new_config = configs.Config.from_file(\"D:\\\\GitRepos\\\\MyGitHub\\\\ml-template\\\\models\\\\run_20221009-160648\\\\config.pt\")"
   ],
   "metadata": {
    "collapsed": false
   }
  },
  {
   "cell_type": "code",
   "execution_count": 16,
   "outputs": [
    {
     "data": {
      "text/plain": "<src.s01_data.datasets.CustomImageDataset at 0x26f223bd430>"
     },
     "execution_count": 16,
     "metadata": {},
     "output_type": "execute_result"
    }
   ],
   "source": [
    "new_config.data"
   ],
   "metadata": {
    "collapsed": false
   }
  },
  {
   "cell_type": "code",
   "execution_count": 17,
   "outputs": [
    {
     "data": {
      "text/plain": "'None'"
     },
     "execution_count": 17,
     "metadata": {},
     "output_type": "execute_result"
    }
   ],
   "source": [
    "str(None)"
   ],
   "metadata": {
    "collapsed": false
   }
  },
  {
   "cell_type": "code",
   "execution_count": 54,
   "outputs": [
    {
     "data": {
      "text/plain": "'cpu'"
     },
     "execution_count": 54,
     "metadata": {},
     "output_type": "execute_result"
    }
   ],
   "source": [
    "torch.device(\"cpu\").type"
   ],
   "metadata": {
    "collapsed": false
   }
  },
  {
   "cell_type": "code",
   "execution_count": null,
   "outputs": [],
   "source": [],
   "metadata": {
    "collapsed": false
   }
  },
  {
   "cell_type": "code",
   "execution_count": 42,
   "outputs": [],
   "source": [
    "import glob\n",
    "import os\n",
    "import cv2\n",
    "import csv"
   ],
   "metadata": {
    "collapsed": false
   }
  },
  {
   "cell_type": "code",
   "execution_count": 47,
   "outputs": [
    {
     "name": "stdout",
     "output_type": "stream",
     "text": [
      "0 img_1.jpg ../data/mnist/train/img_1.jpg\n",
      "0 img_108.jpg ../data/mnist/train/img_108.jpg\n",
      "0 img_110.jpg ../data/mnist/train/img_110.jpg\n",
      "0 img_111.jpg ../data/mnist/train/img_111.jpg\n",
      "0 img_114.jpg ../data/mnist/train/img_114.jpg\n",
      "0 img_129.jpg ../data/mnist/train/img_129.jpg\n",
      "0 img_141.jpg ../data/mnist/train/img_141.jpg\n",
      "0 img_146.jpg ../data/mnist/train/img_146.jpg\n",
      "0 img_149.jpg ../data/mnist/train/img_149.jpg\n",
      "0 img_153.jpg ../data/mnist/train/img_153.jpg\n",
      "0 img_157.jpg ../data/mnist/train/img_157.jpg\n",
      "0 img_17.jpg ../data/mnist/train/img_17.jpg\n",
      "0 img_183.jpg ../data/mnist/train/img_183.jpg\n",
      "0 img_188.jpg ../data/mnist/train/img_188.jpg\n",
      "0 img_193.jpg ../data/mnist/train/img_193.jpg\n",
      "0 img_195.jpg ../data/mnist/train/img_195.jpg\n",
      "0 img_196.jpg ../data/mnist/train/img_196.jpg\n",
      "0 img_200.jpg ../data/mnist/train/img_200.jpg\n",
      "0 img_201.jpg ../data/mnist/train/img_201.jpg\n",
      "0 img_203.jpg ../data/mnist/train/img_203.jpg\n",
      "0 img_204.jpg ../data/mnist/train/img_204.jpg\n",
      "0 img_23.jpg ../data/mnist/train/img_23.jpg\n",
      "0 img_248.jpg ../data/mnist/train/img_248.jpg\n",
      "0 img_251.jpg ../data/mnist/train/img_251.jpg\n",
      "0 img_260.jpg ../data/mnist/train/img_260.jpg\n",
      "0 img_264.jpg ../data/mnist/train/img_264.jpg\n",
      "0 img_267.jpg ../data/mnist/train/img_267.jpg\n",
      "0 img_272.jpg ../data/mnist/train/img_272.jpg\n",
      "0 img_273.jpg ../data/mnist/train/img_273.jpg\n",
      "0 img_276.jpg ../data/mnist/train/img_276.jpg\n",
      "0 img_279.jpg ../data/mnist/train/img_279.jpg\n",
      "0 img_285.jpg ../data/mnist/train/img_285.jpg\n",
      "0 img_286.jpg ../data/mnist/train/img_286.jpg\n",
      "0 img_288.jpg ../data/mnist/train/img_288.jpg\n",
      "0 img_292.jpg ../data/mnist/train/img_292.jpg\n",
      "0 img_322.jpg ../data/mnist/train/img_322.jpg\n",
      "0 img_327.jpg ../data/mnist/train/img_327.jpg\n",
      "0 img_344.jpg ../data/mnist/train/img_344.jpg\n",
      "0 img_357.jpg ../data/mnist/train/img_357.jpg\n",
      "0 img_366.jpg ../data/mnist/train/img_366.jpg\n",
      "0 img_373.jpg ../data/mnist/train/img_373.jpg\n",
      "0 img_375.jpg ../data/mnist/train/img_375.jpg\n",
      "0 img_4.jpg ../data/mnist/train/img_4.jpg\n",
      "0 img_403.jpg ../data/mnist/train/img_403.jpg\n",
      "0 img_404.jpg ../data/mnist/train/img_404.jpg\n",
      "0 img_412.jpg ../data/mnist/train/img_412.jpg\n",
      "0 img_418.jpg ../data/mnist/train/img_418.jpg\n",
      "0 img_433.jpg ../data/mnist/train/img_433.jpg\n",
      "0 img_435.jpg ../data/mnist/train/img_435.jpg\n",
      "0 img_472.jpg ../data/mnist/train/img_472.jpg\n",
      "0 img_486.jpg ../data/mnist/train/img_486.jpg\n",
      "0 img_5.jpg ../data/mnist/train/img_5.jpg\n",
      "0 img_502.jpg ../data/mnist/train/img_502.jpg\n",
      "0 img_508.jpg ../data/mnist/train/img_508.jpg\n",
      "0 img_538.jpg ../data/mnist/train/img_538.jpg\n",
      "0 img_54.jpg ../data/mnist/train/img_54.jpg\n",
      "0 img_542.jpg ../data/mnist/train/img_542.jpg\n",
      "0 img_63.jpg ../data/mnist/train/img_63.jpg\n",
      "0 img_69.jpg ../data/mnist/train/img_69.jpg\n",
      "0 img_98.jpg ../data/mnist/train/img_98.jpg\n",
      "1 img_0.jpg ../data/mnist/train/img_0.jpg\n",
      "1 img_118.jpg ../data/mnist/train/img_118.jpg\n",
      "1 img_12.jpg ../data/mnist/train/img_12.jpg\n",
      "1 img_124.jpg ../data/mnist/train/img_124.jpg\n",
      "1 img_134.jpg ../data/mnist/train/img_134.jpg\n",
      "1 img_140.jpg ../data/mnist/train/img_140.jpg\n",
      "1 img_15.jpg ../data/mnist/train/img_15.jpg\n",
      "1 img_152.jpg ../data/mnist/train/img_152.jpg\n",
      "1 img_182.jpg ../data/mnist/train/img_182.jpg\n",
      "1 img_185.jpg ../data/mnist/train/img_185.jpg\n",
      "1 img_191.jpg ../data/mnist/train/img_191.jpg\n",
      "1 img_2.jpg ../data/mnist/train/img_2.jpg\n",
      "1 img_209.jpg ../data/mnist/train/img_209.jpg\n",
      "1 img_221.jpg ../data/mnist/train/img_221.jpg\n",
      "1 img_224.jpg ../data/mnist/train/img_224.jpg\n",
      "1 img_249.jpg ../data/mnist/train/img_249.jpg\n",
      "1 img_255.jpg ../data/mnist/train/img_255.jpg\n",
      "1 img_256.jpg ../data/mnist/train/img_256.jpg\n",
      "1 img_257.jpg ../data/mnist/train/img_257.jpg\n",
      "1 img_281.jpg ../data/mnist/train/img_281.jpg\n",
      "1 img_295.jpg ../data/mnist/train/img_295.jpg\n",
      "1 img_335.jpg ../data/mnist/train/img_335.jpg\n",
      "1 img_342.jpg ../data/mnist/train/img_342.jpg\n",
      "1 img_35.jpg ../data/mnist/train/img_35.jpg\n",
      "1 img_37.jpg ../data/mnist/train/img_37.jpg\n",
      "1 img_371.jpg ../data/mnist/train/img_371.jpg\n",
      "1 img_38.jpg ../data/mnist/train/img_38.jpg\n",
      "1 img_380.jpg ../data/mnist/train/img_380.jpg\n",
      "1 img_388.jpg ../data/mnist/train/img_388.jpg\n",
      "1 img_400.jpg ../data/mnist/train/img_400.jpg\n",
      "1 img_401.jpg ../data/mnist/train/img_401.jpg\n",
      "1 img_41.jpg ../data/mnist/train/img_41.jpg\n",
      "1 img_424.jpg ../data/mnist/train/img_424.jpg\n",
      "1 img_426.jpg ../data/mnist/train/img_426.jpg\n",
      "1 img_451.jpg ../data/mnist/train/img_451.jpg\n",
      "1 img_468.jpg ../data/mnist/train/img_468.jpg\n",
      "1 img_476.jpg ../data/mnist/train/img_476.jpg\n",
      "1 img_480.jpg ../data/mnist/train/img_480.jpg\n",
      "1 img_484.jpg ../data/mnist/train/img_484.jpg\n",
      "1 img_491.jpg ../data/mnist/train/img_491.jpg\n",
      "1 img_495.jpg ../data/mnist/train/img_495.jpg\n",
      "1 img_497.jpg ../data/mnist/train/img_497.jpg\n",
      "1 img_52.jpg ../data/mnist/train/img_52.jpg\n",
      "1 img_522.jpg ../data/mnist/train/img_522.jpg\n",
      "1 img_527.jpg ../data/mnist/train/img_527.jpg\n",
      "1 img_529.jpg ../data/mnist/train/img_529.jpg\n",
      "1 img_540.jpg ../data/mnist/train/img_540.jpg\n",
      "1 img_544.jpg ../data/mnist/train/img_544.jpg\n",
      "1 img_549.jpg ../data/mnist/train/img_549.jpg\n",
      "1 img_584.jpg ../data/mnist/train/img_584.jpg\n",
      "1 img_59.jpg ../data/mnist/train/img_59.jpg\n",
      "1 img_590.jpg ../data/mnist/train/img_590.jpg\n",
      "1 img_594.jpg ../data/mnist/train/img_594.jpg\n",
      "1 img_598.jpg ../data/mnist/train/img_598.jpg\n",
      "1 img_60.jpg ../data/mnist/train/img_60.jpg\n",
      "1 img_61.jpg ../data/mnist/train/img_61.jpg\n",
      "1 img_68.jpg ../data/mnist/train/img_68.jpg\n",
      "1 img_77.jpg ../data/mnist/train/img_77.jpg\n",
      "1 img_79.jpg ../data/mnist/train/img_79.jpg\n",
      "1 img_96.jpg ../data/mnist/train/img_96.jpg\n",
      "2 img_101.jpg ../data/mnist/train/img_101.jpg\n",
      "2 img_104.jpg ../data/mnist/train/img_104.jpg\n",
      "2 img_112.jpg ../data/mnist/train/img_112.jpg\n",
      "2 img_16.jpg ../data/mnist/train/img_16.jpg\n",
      "2 img_169.jpg ../data/mnist/train/img_169.jpg\n",
      "2 img_178.jpg ../data/mnist/train/img_178.jpg\n",
      "2 img_190.jpg ../data/mnist/train/img_190.jpg\n",
      "2 img_199.jpg ../data/mnist/train/img_199.jpg\n",
      "2 img_207.jpg ../data/mnist/train/img_207.jpg\n",
      "2 img_22.jpg ../data/mnist/train/img_22.jpg\n",
      "2 img_233.jpg ../data/mnist/train/img_233.jpg\n",
      "2 img_235.jpg ../data/mnist/train/img_235.jpg\n",
      "2 img_236.jpg ../data/mnist/train/img_236.jpg\n",
      "2 img_239.jpg ../data/mnist/train/img_239.jpg\n",
      "2 img_24.jpg ../data/mnist/train/img_24.jpg\n",
      "2 img_241.jpg ../data/mnist/train/img_241.jpg\n",
      "2 img_247.jpg ../data/mnist/train/img_247.jpg\n",
      "2 img_261.jpg ../data/mnist/train/img_261.jpg\n",
      "2 img_263.jpg ../data/mnist/train/img_263.jpg\n",
      "2 img_271.jpg ../data/mnist/train/img_271.jpg\n",
      "2 img_275.jpg ../data/mnist/train/img_275.jpg\n",
      "2 img_278.jpg ../data/mnist/train/img_278.jpg\n",
      "2 img_287.jpg ../data/mnist/train/img_287.jpg\n",
      "2 img_294.jpg ../data/mnist/train/img_294.jpg\n",
      "2 img_298.jpg ../data/mnist/train/img_298.jpg\n",
      "2 img_302.jpg ../data/mnist/train/img_302.jpg\n",
      "2 img_306.jpg ../data/mnist/train/img_306.jpg\n",
      "2 img_312.jpg ../data/mnist/train/img_312.jpg\n",
      "2 img_324.jpg ../data/mnist/train/img_324.jpg\n",
      "2 img_34.jpg ../data/mnist/train/img_34.jpg\n",
      "2 img_341.jpg ../data/mnist/train/img_341.jpg\n",
      "2 img_348.jpg ../data/mnist/train/img_348.jpg\n",
      "2 img_353.jpg ../data/mnist/train/img_353.jpg\n",
      "2 img_354.jpg ../data/mnist/train/img_354.jpg\n",
      "2 img_355.jpg ../data/mnist/train/img_355.jpg\n",
      "2 img_360.jpg ../data/mnist/train/img_360.jpg\n",
      "2 img_361.jpg ../data/mnist/train/img_361.jpg\n",
      "2 img_365.jpg ../data/mnist/train/img_365.jpg\n",
      "2 img_370.jpg ../data/mnist/train/img_370.jpg\n",
      "2 img_383.jpg ../data/mnist/train/img_383.jpg\n",
      "2 img_397.jpg ../data/mnist/train/img_397.jpg\n",
      "2 img_410.jpg ../data/mnist/train/img_410.jpg\n",
      "2 img_413.jpg ../data/mnist/train/img_413.jpg\n",
      "2 img_432.jpg ../data/mnist/train/img_432.jpg\n",
      "2 img_438.jpg ../data/mnist/train/img_438.jpg\n",
      "2 img_44.jpg ../data/mnist/train/img_44.jpg\n",
      "2 img_444.jpg ../data/mnist/train/img_444.jpg\n",
      "2 img_459.jpg ../data/mnist/train/img_459.jpg\n",
      "2 img_462.jpg ../data/mnist/train/img_462.jpg\n",
      "2 img_463.jpg ../data/mnist/train/img_463.jpg\n",
      "2 img_465.jpg ../data/mnist/train/img_465.jpg\n",
      "2 img_473.jpg ../data/mnist/train/img_473.jpg\n",
      "2 img_474.jpg ../data/mnist/train/img_474.jpg\n",
      "2 img_477.jpg ../data/mnist/train/img_477.jpg\n",
      "2 img_55.jpg ../data/mnist/train/img_55.jpg\n",
      "2 img_56.jpg ../data/mnist/train/img_56.jpg\n",
      "2 img_73.jpg ../data/mnist/train/img_73.jpg\n",
      "2 img_84.jpg ../data/mnist/train/img_84.jpg\n",
      "2 img_94.jpg ../data/mnist/train/img_94.jpg\n",
      "2 img_97.jpg ../data/mnist/train/img_97.jpg\n",
      "3 img_13.jpg ../data/mnist/train/img_13.jpg\n",
      "3 img_137.jpg ../data/mnist/train/img_137.jpg\n",
      "3 img_139.jpg ../data/mnist/train/img_139.jpg\n",
      "3 img_14.jpg ../data/mnist/train/img_14.jpg\n",
      "3 img_142.jpg ../data/mnist/train/img_142.jpg\n",
      "3 img_150.jpg ../data/mnist/train/img_150.jpg\n",
      "3 img_155.jpg ../data/mnist/train/img_155.jpg\n",
      "3 img_166.jpg ../data/mnist/train/img_166.jpg\n",
      "3 img_181.jpg ../data/mnist/train/img_181.jpg\n",
      "3 img_192.jpg ../data/mnist/train/img_192.jpg\n",
      "3 img_198.jpg ../data/mnist/train/img_198.jpg\n",
      "3 img_212.jpg ../data/mnist/train/img_212.jpg\n",
      "3 img_219.jpg ../data/mnist/train/img_219.jpg\n",
      "3 img_225.jpg ../data/mnist/train/img_225.jpg\n",
      "3 img_228.jpg ../data/mnist/train/img_228.jpg\n",
      "3 img_230.jpg ../data/mnist/train/img_230.jpg\n",
      "3 img_232.jpg ../data/mnist/train/img_232.jpg\n",
      "3 img_234.jpg ../data/mnist/train/img_234.jpg\n",
      "3 img_240.jpg ../data/mnist/train/img_240.jpg\n",
      "3 img_25.jpg ../data/mnist/train/img_25.jpg\n",
      "3 img_253.jpg ../data/mnist/train/img_253.jpg\n",
      "3 img_284.jpg ../data/mnist/train/img_284.jpg\n",
      "3 img_311.jpg ../data/mnist/train/img_311.jpg\n",
      "3 img_314.jpg ../data/mnist/train/img_314.jpg\n",
      "3 img_316.jpg ../data/mnist/train/img_316.jpg\n",
      "3 img_320.jpg ../data/mnist/train/img_320.jpg\n",
      "3 img_333.jpg ../data/mnist/train/img_333.jpg\n",
      "3 img_334.jpg ../data/mnist/train/img_334.jpg\n",
      "3 img_36.jpg ../data/mnist/train/img_36.jpg\n",
      "3 img_363.jpg ../data/mnist/train/img_363.jpg\n",
      "3 img_379.jpg ../data/mnist/train/img_379.jpg\n",
      "3 img_387.jpg ../data/mnist/train/img_387.jpg\n",
      "3 img_392.jpg ../data/mnist/train/img_392.jpg\n",
      "3 img_394.jpg ../data/mnist/train/img_394.jpg\n",
      "3 img_417.jpg ../data/mnist/train/img_417.jpg\n",
      "3 img_431.jpg ../data/mnist/train/img_431.jpg\n",
      "3 img_458.jpg ../data/mnist/train/img_458.jpg\n",
      "3 img_46.jpg ../data/mnist/train/img_46.jpg\n",
      "3 img_470.jpg ../data/mnist/train/img_470.jpg\n",
      "3 img_481.jpg ../data/mnist/train/img_481.jpg\n",
      "3 img_489.jpg ../data/mnist/train/img_489.jpg\n",
      "3 img_492.jpg ../data/mnist/train/img_492.jpg\n",
      "3 img_510.jpg ../data/mnist/train/img_510.jpg\n",
      "3 img_537.jpg ../data/mnist/train/img_537.jpg\n",
      "3 img_560.jpg ../data/mnist/train/img_560.jpg\n",
      "3 img_565.jpg ../data/mnist/train/img_565.jpg\n",
      "3 img_568.jpg ../data/mnist/train/img_568.jpg\n",
      "3 img_57.jpg ../data/mnist/train/img_57.jpg\n",
      "3 img_581.jpg ../data/mnist/train/img_581.jpg\n",
      "3 img_596.jpg ../data/mnist/train/img_596.jpg\n",
      "3 img_597.jpg ../data/mnist/train/img_597.jpg\n",
      "3 img_606.jpg ../data/mnist/train/img_606.jpg\n",
      "3 img_610.jpg ../data/mnist/train/img_610.jpg\n",
      "3 img_615.jpg ../data/mnist/train/img_615.jpg\n",
      "3 img_619.jpg ../data/mnist/train/img_619.jpg\n",
      "3 img_65.jpg ../data/mnist/train/img_65.jpg\n",
      "3 img_7.jpg ../data/mnist/train/img_7.jpg\n",
      "3 img_70.jpg ../data/mnist/train/img_70.jpg\n",
      "3 img_9.jpg ../data/mnist/train/img_9.jpg\n",
      "3 img_90.jpg ../data/mnist/train/img_90.jpg\n",
      "4 img_115.jpg ../data/mnist/train/img_115.jpg\n",
      "4 img_122.jpg ../data/mnist/train/img_122.jpg\n",
      "4 img_130.jpg ../data/mnist/train/img_130.jpg\n",
      "4 img_143.jpg ../data/mnist/train/img_143.jpg\n",
      "4 img_145.jpg ../data/mnist/train/img_145.jpg\n",
      "4 img_148.jpg ../data/mnist/train/img_148.jpg\n",
      "4 img_163.jpg ../data/mnist/train/img_163.jpg\n",
      "4 img_168.jpg ../data/mnist/train/img_168.jpg\n",
      "4 img_170.jpg ../data/mnist/train/img_170.jpg\n",
      "4 img_184.jpg ../data/mnist/train/img_184.jpg\n",
      "4 img_205.jpg ../data/mnist/train/img_205.jpg\n",
      "4 img_215.jpg ../data/mnist/train/img_215.jpg\n",
      "4 img_250.jpg ../data/mnist/train/img_250.jpg\n",
      "4 img_258.jpg ../data/mnist/train/img_258.jpg\n",
      "4 img_277.jpg ../data/mnist/train/img_277.jpg\n",
      "4 img_291.jpg ../data/mnist/train/img_291.jpg\n",
      "4 img_299.jpg ../data/mnist/train/img_299.jpg\n",
      "4 img_3.jpg ../data/mnist/train/img_3.jpg\n",
      "4 img_309.jpg ../data/mnist/train/img_309.jpg\n",
      "4 img_32.jpg ../data/mnist/train/img_32.jpg\n",
      "4 img_329.jpg ../data/mnist/train/img_329.jpg\n",
      "4 img_332.jpg ../data/mnist/train/img_332.jpg\n",
      "4 img_351.jpg ../data/mnist/train/img_351.jpg\n",
      "4 img_364.jpg ../data/mnist/train/img_364.jpg\n",
      "4 img_376.jpg ../data/mnist/train/img_376.jpg\n",
      "4 img_378.jpg ../data/mnist/train/img_378.jpg\n",
      "4 img_382.jpg ../data/mnist/train/img_382.jpg\n",
      "4 img_39.jpg ../data/mnist/train/img_39.jpg\n",
      "4 img_390.jpg ../data/mnist/train/img_390.jpg\n",
      "4 img_398.jpg ../data/mnist/train/img_398.jpg\n",
      "4 img_402.jpg ../data/mnist/train/img_402.jpg\n",
      "4 img_409.jpg ../data/mnist/train/img_409.jpg\n",
      "4 img_415.jpg ../data/mnist/train/img_415.jpg\n",
      "4 img_42.jpg ../data/mnist/train/img_42.jpg\n",
      "4 img_420.jpg ../data/mnist/train/img_420.jpg\n",
      "4 img_423.jpg ../data/mnist/train/img_423.jpg\n",
      "4 img_428.jpg ../data/mnist/train/img_428.jpg\n",
      "4 img_43.jpg ../data/mnist/train/img_43.jpg\n",
      "4 img_430.jpg ../data/mnist/train/img_430.jpg\n",
      "4 img_445.jpg ../data/mnist/train/img_445.jpg\n",
      "4 img_446.jpg ../data/mnist/train/img_446.jpg\n",
      "4 img_448.jpg ../data/mnist/train/img_448.jpg\n",
      "4 img_450.jpg ../data/mnist/train/img_450.jpg\n",
      "4 img_467.jpg ../data/mnist/train/img_467.jpg\n",
      "4 img_482.jpg ../data/mnist/train/img_482.jpg\n",
      "4 img_49.jpg ../data/mnist/train/img_49.jpg\n",
      "4 img_490.jpg ../data/mnist/train/img_490.jpg\n",
      "4 img_494.jpg ../data/mnist/train/img_494.jpg\n",
      "4 img_496.jpg ../data/mnist/train/img_496.jpg\n",
      "4 img_516.jpg ../data/mnist/train/img_516.jpg\n",
      "4 img_524.jpg ../data/mnist/train/img_524.jpg\n",
      "4 img_530.jpg ../data/mnist/train/img_530.jpg\n",
      "4 img_531.jpg ../data/mnist/train/img_531.jpg\n",
      "4 img_541.jpg ../data/mnist/train/img_541.jpg\n",
      "4 img_548.jpg ../data/mnist/train/img_548.jpg\n",
      "4 img_66.jpg ../data/mnist/train/img_66.jpg\n",
      "4 img_75.jpg ../data/mnist/train/img_75.jpg\n",
      "4 img_78.jpg ../data/mnist/train/img_78.jpg\n",
      "4 img_81.jpg ../data/mnist/train/img_81.jpg\n",
      "4 img_92.jpg ../data/mnist/train/img_92.jpg\n",
      "5 img_107.jpg ../data/mnist/train/img_107.jpg\n",
      "5 img_119.jpg ../data/mnist/train/img_119.jpg\n",
      "5 img_125.jpg ../data/mnist/train/img_125.jpg\n",
      "5 img_128.jpg ../data/mnist/train/img_128.jpg\n",
      "5 img_144.jpg ../data/mnist/train/img_144.jpg\n",
      "5 img_147.jpg ../data/mnist/train/img_147.jpg\n",
      "5 img_151.jpg ../data/mnist/train/img_151.jpg\n",
      "5 img_162.jpg ../data/mnist/train/img_162.jpg\n",
      "5 img_167.jpg ../data/mnist/train/img_167.jpg\n",
      "5 img_174.jpg ../data/mnist/train/img_174.jpg\n",
      "5 img_186.jpg ../data/mnist/train/img_186.jpg\n",
      "5 img_19.jpg ../data/mnist/train/img_19.jpg\n",
      "5 img_218.jpg ../data/mnist/train/img_218.jpg\n",
      "5 img_243.jpg ../data/mnist/train/img_243.jpg\n",
      "5 img_244.jpg ../data/mnist/train/img_244.jpg\n",
      "5 img_265.jpg ../data/mnist/train/img_265.jpg\n",
      "5 img_297.jpg ../data/mnist/train/img_297.jpg\n",
      "5 img_301.jpg ../data/mnist/train/img_301.jpg\n",
      "5 img_328.jpg ../data/mnist/train/img_328.jpg\n",
      "5 img_330.jpg ../data/mnist/train/img_330.jpg\n",
      "5 img_345.jpg ../data/mnist/train/img_345.jpg\n",
      "5 img_347.jpg ../data/mnist/train/img_347.jpg\n",
      "5 img_350.jpg ../data/mnist/train/img_350.jpg\n",
      "5 img_367.jpg ../data/mnist/train/img_367.jpg\n",
      "5 img_381.jpg ../data/mnist/train/img_381.jpg\n",
      "5 img_385.jpg ../data/mnist/train/img_385.jpg\n",
      "5 img_389.jpg ../data/mnist/train/img_389.jpg\n",
      "5 img_391.jpg ../data/mnist/train/img_391.jpg\n",
      "5 img_405.jpg ../data/mnist/train/img_405.jpg\n",
      "5 img_414.jpg ../data/mnist/train/img_414.jpg\n",
      "5 img_427.jpg ../data/mnist/train/img_427.jpg\n",
      "5 img_434.jpg ../data/mnist/train/img_434.jpg\n",
      "5 img_443.jpg ../data/mnist/train/img_443.jpg\n",
      "5 img_453.jpg ../data/mnist/train/img_453.jpg\n",
      "5 img_456.jpg ../data/mnist/train/img_456.jpg\n",
      "5 img_460.jpg ../data/mnist/train/img_460.jpg\n",
      "5 img_498.jpg ../data/mnist/train/img_498.jpg\n",
      "5 img_503.jpg ../data/mnist/train/img_503.jpg\n",
      "5 img_51.jpg ../data/mnist/train/img_51.jpg\n",
      "5 img_511.jpg ../data/mnist/train/img_511.jpg\n",
      "5 img_518.jpg ../data/mnist/train/img_518.jpg\n",
      "5 img_525.jpg ../data/mnist/train/img_525.jpg\n",
      "5 img_526.jpg ../data/mnist/train/img_526.jpg\n",
      "5 img_533.jpg ../data/mnist/train/img_533.jpg\n",
      "5 img_539.jpg ../data/mnist/train/img_539.jpg\n",
      "5 img_543.jpg ../data/mnist/train/img_543.jpg\n",
      "5 img_557.jpg ../data/mnist/train/img_557.jpg\n",
      "5 img_561.jpg ../data/mnist/train/img_561.jpg\n",
      "5 img_569.jpg ../data/mnist/train/img_569.jpg\n",
      "5 img_571.jpg ../data/mnist/train/img_571.jpg\n",
      "5 img_580.jpg ../data/mnist/train/img_580.jpg\n",
      "5 img_587.jpg ../data/mnist/train/img_587.jpg\n",
      "5 img_589.jpg ../data/mnist/train/img_589.jpg\n",
      "5 img_602.jpg ../data/mnist/train/img_602.jpg\n",
      "5 img_62.jpg ../data/mnist/train/img_62.jpg\n",
      "5 img_626.jpg ../data/mnist/train/img_626.jpg\n",
      "5 img_651.jpg ../data/mnist/train/img_651.jpg\n",
      "5 img_8.jpg ../data/mnist/train/img_8.jpg\n",
      "5 img_80.jpg ../data/mnist/train/img_80.jpg\n",
      "5 img_99.jpg ../data/mnist/train/img_99.jpg\n",
      "6 img_109.jpg ../data/mnist/train/img_109.jpg\n",
      "6 img_123.jpg ../data/mnist/train/img_123.jpg\n",
      "6 img_127.jpg ../data/mnist/train/img_127.jpg\n",
      "6 img_133.jpg ../data/mnist/train/img_133.jpg\n",
      "6 img_159.jpg ../data/mnist/train/img_159.jpg\n",
      "6 img_160.jpg ../data/mnist/train/img_160.jpg\n",
      "6 img_164.jpg ../data/mnist/train/img_164.jpg\n",
      "6 img_179.jpg ../data/mnist/train/img_179.jpg\n",
      "6 img_189.jpg ../data/mnist/train/img_189.jpg\n",
      "6 img_194.jpg ../data/mnist/train/img_194.jpg\n",
      "6 img_202.jpg ../data/mnist/train/img_202.jpg\n",
      "6 img_21.jpg ../data/mnist/train/img_21.jpg\n",
      "6 img_216.jpg ../data/mnist/train/img_216.jpg\n",
      "6 img_217.jpg ../data/mnist/train/img_217.jpg\n",
      "6 img_227.jpg ../data/mnist/train/img_227.jpg\n",
      "6 img_229.jpg ../data/mnist/train/img_229.jpg\n",
      "6 img_231.jpg ../data/mnist/train/img_231.jpg\n",
      "6 img_252.jpg ../data/mnist/train/img_252.jpg\n",
      "6 img_26.jpg ../data/mnist/train/img_26.jpg\n",
      "6 img_266.jpg ../data/mnist/train/img_266.jpg\n",
      "6 img_270.jpg ../data/mnist/train/img_270.jpg\n",
      "6 img_282.jpg ../data/mnist/train/img_282.jpg\n",
      "6 img_289.jpg ../data/mnist/train/img_289.jpg\n",
      "6 img_315.jpg ../data/mnist/train/img_315.jpg\n",
      "6 img_317.jpg ../data/mnist/train/img_317.jpg\n",
      "6 img_340.jpg ../data/mnist/train/img_340.jpg\n",
      "6 img_346.jpg ../data/mnist/train/img_346.jpg\n",
      "6 img_352.jpg ../data/mnist/train/img_352.jpg\n",
      "6 img_362.jpg ../data/mnist/train/img_362.jpg\n",
      "6 img_369.jpg ../data/mnist/train/img_369.jpg\n",
      "6 img_374.jpg ../data/mnist/train/img_374.jpg\n",
      "6 img_396.jpg ../data/mnist/train/img_396.jpg\n",
      "6 img_399.jpg ../data/mnist/train/img_399.jpg\n",
      "6 img_407.jpg ../data/mnist/train/img_407.jpg\n",
      "6 img_419.jpg ../data/mnist/train/img_419.jpg\n",
      "6 img_422.jpg ../data/mnist/train/img_422.jpg\n",
      "6 img_442.jpg ../data/mnist/train/img_442.jpg\n",
      "6 img_447.jpg ../data/mnist/train/img_447.jpg\n",
      "6 img_45.jpg ../data/mnist/train/img_45.jpg\n",
      "6 img_471.jpg ../data/mnist/train/img_471.jpg\n",
      "6 img_500.jpg ../data/mnist/train/img_500.jpg\n",
      "6 img_505.jpg ../data/mnist/train/img_505.jpg\n",
      "6 img_532.jpg ../data/mnist/train/img_532.jpg\n",
      "6 img_550.jpg ../data/mnist/train/img_550.jpg\n",
      "6 img_570.jpg ../data/mnist/train/img_570.jpg\n",
      "6 img_583.jpg ../data/mnist/train/img_583.jpg\n",
      "6 img_591.jpg ../data/mnist/train/img_591.jpg\n",
      "6 img_595.jpg ../data/mnist/train/img_595.jpg\n",
      "6 img_604.jpg ../data/mnist/train/img_604.jpg\n",
      "6 img_607.jpg ../data/mnist/train/img_607.jpg\n",
      "6 img_625.jpg ../data/mnist/train/img_625.jpg\n",
      "6 img_630.jpg ../data/mnist/train/img_630.jpg\n",
      "6 img_634.jpg ../data/mnist/train/img_634.jpg\n",
      "6 img_64.jpg ../data/mnist/train/img_64.jpg\n",
      "6 img_659.jpg ../data/mnist/train/img_659.jpg\n",
      "6 img_72.jpg ../data/mnist/train/img_72.jpg\n",
      "6 img_74.jpg ../data/mnist/train/img_74.jpg\n",
      "6 img_89.jpg ../data/mnist/train/img_89.jpg\n",
      "6 img_91.jpg ../data/mnist/train/img_91.jpg\n",
      "6 img_93.jpg ../data/mnist/train/img_93.jpg\n",
      "7 img_102.jpg ../data/mnist/train/img_102.jpg\n",
      "7 img_103.jpg ../data/mnist/train/img_103.jpg\n",
      "7 img_116.jpg ../data/mnist/train/img_116.jpg\n",
      "7 img_117.jpg ../data/mnist/train/img_117.jpg\n",
      "7 img_120.jpg ../data/mnist/train/img_120.jpg\n",
      "7 img_126.jpg ../data/mnist/train/img_126.jpg\n",
      "7 img_132.jpg ../data/mnist/train/img_132.jpg\n",
      "7 img_136.jpg ../data/mnist/train/img_136.jpg\n",
      "7 img_138.jpg ../data/mnist/train/img_138.jpg\n",
      "7 img_156.jpg ../data/mnist/train/img_156.jpg\n",
      "7 img_172.jpg ../data/mnist/train/img_172.jpg\n",
      "7 img_173.jpg ../data/mnist/train/img_173.jpg\n",
      "7 img_18.jpg ../data/mnist/train/img_18.jpg\n",
      "7 img_206.jpg ../data/mnist/train/img_206.jpg\n",
      "7 img_208.jpg ../data/mnist/train/img_208.jpg\n",
      "7 img_223.jpg ../data/mnist/train/img_223.jpg\n",
      "7 img_226.jpg ../data/mnist/train/img_226.jpg\n",
      "7 img_237.jpg ../data/mnist/train/img_237.jpg\n",
      "7 img_242.jpg ../data/mnist/train/img_242.jpg\n",
      "7 img_254.jpg ../data/mnist/train/img_254.jpg\n",
      "7 img_259.jpg ../data/mnist/train/img_259.jpg\n",
      "7 img_274.jpg ../data/mnist/train/img_274.jpg\n",
      "7 img_29.jpg ../data/mnist/train/img_29.jpg\n",
      "7 img_293.jpg ../data/mnist/train/img_293.jpg\n",
      "7 img_304.jpg ../data/mnist/train/img_304.jpg\n",
      "7 img_308.jpg ../data/mnist/train/img_308.jpg\n",
      "7 img_313.jpg ../data/mnist/train/img_313.jpg\n",
      "7 img_321.jpg ../data/mnist/train/img_321.jpg\n",
      "7 img_325.jpg ../data/mnist/train/img_325.jpg\n",
      "7 img_336.jpg ../data/mnist/train/img_336.jpg\n",
      "7 img_339.jpg ../data/mnist/train/img_339.jpg\n",
      "7 img_343.jpg ../data/mnist/train/img_343.jpg\n",
      "7 img_358.jpg ../data/mnist/train/img_358.jpg\n",
      "7 img_359.jpg ../data/mnist/train/img_359.jpg\n",
      "7 img_386.jpg ../data/mnist/train/img_386.jpg\n",
      "7 img_393.jpg ../data/mnist/train/img_393.jpg\n",
      "7 img_408.jpg ../data/mnist/train/img_408.jpg\n",
      "7 img_436.jpg ../data/mnist/train/img_436.jpg\n",
      "7 img_452.jpg ../data/mnist/train/img_452.jpg\n",
      "7 img_464.jpg ../data/mnist/train/img_464.jpg\n",
      "7 img_47.jpg ../data/mnist/train/img_47.jpg\n",
      "7 img_478.jpg ../data/mnist/train/img_478.jpg\n",
      "7 img_48.jpg ../data/mnist/train/img_48.jpg\n",
      "7 img_493.jpg ../data/mnist/train/img_493.jpg\n",
      "7 img_50.jpg ../data/mnist/train/img_50.jpg\n",
      "7 img_504.jpg ../data/mnist/train/img_504.jpg\n",
      "7 img_509.jpg ../data/mnist/train/img_509.jpg\n",
      "7 img_521.jpg ../data/mnist/train/img_521.jpg\n",
      "7 img_573.jpg ../data/mnist/train/img_573.jpg\n",
      "7 img_578.jpg ../data/mnist/train/img_578.jpg\n",
      "7 img_582.jpg ../data/mnist/train/img_582.jpg\n",
      "7 img_586.jpg ../data/mnist/train/img_586.jpg\n",
      "7 img_593.jpg ../data/mnist/train/img_593.jpg\n",
      "7 img_6.jpg ../data/mnist/train/img_6.jpg\n",
      "7 img_608.jpg ../data/mnist/train/img_608.jpg\n",
      "7 img_609.jpg ../data/mnist/train/img_609.jpg\n",
      "7 img_613.jpg ../data/mnist/train/img_613.jpg\n",
      "7 img_620.jpg ../data/mnist/train/img_620.jpg\n",
      "7 img_654.jpg ../data/mnist/train/img_654.jpg\n",
      "7 img_76.jpg ../data/mnist/train/img_76.jpg\n",
      "8 img_10.jpg ../data/mnist/train/img_10.jpg\n",
      "8 img_105.jpg ../data/mnist/train/img_105.jpg\n",
      "8 img_106.jpg ../data/mnist/train/img_106.jpg\n",
      "8 img_131.jpg ../data/mnist/train/img_131.jpg\n",
      "8 img_135.jpg ../data/mnist/train/img_135.jpg\n",
      "8 img_154.jpg ../data/mnist/train/img_154.jpg\n",
      "8 img_171.jpg ../data/mnist/train/img_171.jpg\n",
      "8 img_175.jpg ../data/mnist/train/img_175.jpg\n",
      "8 img_176.jpg ../data/mnist/train/img_176.jpg\n",
      "8 img_177.jpg ../data/mnist/train/img_177.jpg\n",
      "8 img_197.jpg ../data/mnist/train/img_197.jpg\n",
      "8 img_20.jpg ../data/mnist/train/img_20.jpg\n",
      "8 img_214.jpg ../data/mnist/train/img_214.jpg\n",
      "8 img_220.jpg ../data/mnist/train/img_220.jpg\n",
      "8 img_222.jpg ../data/mnist/train/img_222.jpg\n",
      "8 img_245.jpg ../data/mnist/train/img_245.jpg\n",
      "8 img_246.jpg ../data/mnist/train/img_246.jpg\n",
      "8 img_268.jpg ../data/mnist/train/img_268.jpg\n",
      "8 img_290.jpg ../data/mnist/train/img_290.jpg\n",
      "8 img_30.jpg ../data/mnist/train/img_30.jpg\n",
      "8 img_300.jpg ../data/mnist/train/img_300.jpg\n",
      "8 img_318.jpg ../data/mnist/train/img_318.jpg\n",
      "8 img_319.jpg ../data/mnist/train/img_319.jpg\n",
      "8 img_331.jpg ../data/mnist/train/img_331.jpg\n",
      "8 img_337.jpg ../data/mnist/train/img_337.jpg\n",
      "8 img_377.jpg ../data/mnist/train/img_377.jpg\n",
      "8 img_395.jpg ../data/mnist/train/img_395.jpg\n",
      "8 img_406.jpg ../data/mnist/train/img_406.jpg\n",
      "8 img_411.jpg ../data/mnist/train/img_411.jpg\n",
      "8 img_416.jpg ../data/mnist/train/img_416.jpg\n",
      "8 img_421.jpg ../data/mnist/train/img_421.jpg\n",
      "8 img_425.jpg ../data/mnist/train/img_425.jpg\n",
      "8 img_440.jpg ../data/mnist/train/img_440.jpg\n",
      "8 img_449.jpg ../data/mnist/train/img_449.jpg\n",
      "8 img_454.jpg ../data/mnist/train/img_454.jpg\n",
      "8 img_461.jpg ../data/mnist/train/img_461.jpg\n",
      "8 img_466.jpg ../data/mnist/train/img_466.jpg\n",
      "8 img_485.jpg ../data/mnist/train/img_485.jpg\n",
      "8 img_506.jpg ../data/mnist/train/img_506.jpg\n",
      "8 img_512.jpg ../data/mnist/train/img_512.jpg\n",
      "8 img_514.jpg ../data/mnist/train/img_514.jpg\n",
      "8 img_517.jpg ../data/mnist/train/img_517.jpg\n",
      "8 img_519.jpg ../data/mnist/train/img_519.jpg\n",
      "8 img_528.jpg ../data/mnist/train/img_528.jpg\n",
      "8 img_534.jpg ../data/mnist/train/img_534.jpg\n",
      "8 img_551.jpg ../data/mnist/train/img_551.jpg\n",
      "8 img_605.jpg ../data/mnist/train/img_605.jpg\n",
      "8 img_611.jpg ../data/mnist/train/img_611.jpg\n",
      "8 img_618.jpg ../data/mnist/train/img_618.jpg\n",
      "8 img_629.jpg ../data/mnist/train/img_629.jpg\n",
      "8 img_637.jpg ../data/mnist/train/img_637.jpg\n",
      "8 img_639.jpg ../data/mnist/train/img_639.jpg\n",
      "8 img_640.jpg ../data/mnist/train/img_640.jpg\n",
      "8 img_647.jpg ../data/mnist/train/img_647.jpg\n",
      "8 img_653.jpg ../data/mnist/train/img_653.jpg\n",
      "8 img_67.jpg ../data/mnist/train/img_67.jpg\n",
      "8 img_672.jpg ../data/mnist/train/img_672.jpg\n",
      "8 img_674.jpg ../data/mnist/train/img_674.jpg\n",
      "8 img_82.jpg ../data/mnist/train/img_82.jpg\n",
      "8 img_87.jpg ../data/mnist/train/img_87.jpg\n",
      "9 img_100.jpg ../data/mnist/train/img_100.jpg\n",
      "9 img_11.jpg ../data/mnist/train/img_11.jpg\n",
      "9 img_113.jpg ../data/mnist/train/img_113.jpg\n",
      "9 img_121.jpg ../data/mnist/train/img_121.jpg\n",
      "9 img_158.jpg ../data/mnist/train/img_158.jpg\n",
      "9 img_161.jpg ../data/mnist/train/img_161.jpg\n",
      "9 img_165.jpg ../data/mnist/train/img_165.jpg\n",
      "9 img_180.jpg ../data/mnist/train/img_180.jpg\n",
      "9 img_187.jpg ../data/mnist/train/img_187.jpg\n",
      "9 img_210.jpg ../data/mnist/train/img_210.jpg\n",
      "9 img_211.jpg ../data/mnist/train/img_211.jpg\n",
      "9 img_213.jpg ../data/mnist/train/img_213.jpg\n",
      "9 img_238.jpg ../data/mnist/train/img_238.jpg\n",
      "9 img_262.jpg ../data/mnist/train/img_262.jpg\n",
      "9 img_269.jpg ../data/mnist/train/img_269.jpg\n",
      "9 img_27.jpg ../data/mnist/train/img_27.jpg\n",
      "9 img_28.jpg ../data/mnist/train/img_28.jpg\n",
      "9 img_280.jpg ../data/mnist/train/img_280.jpg\n",
      "9 img_283.jpg ../data/mnist/train/img_283.jpg\n",
      "9 img_296.jpg ../data/mnist/train/img_296.jpg\n",
      "9 img_303.jpg ../data/mnist/train/img_303.jpg\n",
      "9 img_305.jpg ../data/mnist/train/img_305.jpg\n",
      "9 img_307.jpg ../data/mnist/train/img_307.jpg\n",
      "9 img_31.jpg ../data/mnist/train/img_31.jpg\n",
      "9 img_310.jpg ../data/mnist/train/img_310.jpg\n",
      "9 img_323.jpg ../data/mnist/train/img_323.jpg\n",
      "9 img_326.jpg ../data/mnist/train/img_326.jpg\n",
      "9 img_33.jpg ../data/mnist/train/img_33.jpg\n",
      "9 img_338.jpg ../data/mnist/train/img_338.jpg\n",
      "9 img_349.jpg ../data/mnist/train/img_349.jpg\n",
      "9 img_356.jpg ../data/mnist/train/img_356.jpg\n",
      "9 img_368.jpg ../data/mnist/train/img_368.jpg\n",
      "9 img_372.jpg ../data/mnist/train/img_372.jpg\n",
      "9 img_384.jpg ../data/mnist/train/img_384.jpg\n",
      "9 img_40.jpg ../data/mnist/train/img_40.jpg\n",
      "9 img_429.jpg ../data/mnist/train/img_429.jpg\n",
      "9 img_437.jpg ../data/mnist/train/img_437.jpg\n",
      "9 img_439.jpg ../data/mnist/train/img_439.jpg\n",
      "9 img_441.jpg ../data/mnist/train/img_441.jpg\n",
      "9 img_455.jpg ../data/mnist/train/img_455.jpg\n",
      "9 img_457.jpg ../data/mnist/train/img_457.jpg\n",
      "9 img_469.jpg ../data/mnist/train/img_469.jpg\n",
      "9 img_475.jpg ../data/mnist/train/img_475.jpg\n",
      "9 img_483.jpg ../data/mnist/train/img_483.jpg\n",
      "9 img_499.jpg ../data/mnist/train/img_499.jpg\n",
      "9 img_501.jpg ../data/mnist/train/img_501.jpg\n",
      "9 img_520.jpg ../data/mnist/train/img_520.jpg\n",
      "9 img_53.jpg ../data/mnist/train/img_53.jpg\n",
      "9 img_535.jpg ../data/mnist/train/img_535.jpg\n",
      "9 img_546.jpg ../data/mnist/train/img_546.jpg\n",
      "9 img_554.jpg ../data/mnist/train/img_554.jpg\n",
      "9 img_558.jpg ../data/mnist/train/img_558.jpg\n",
      "9 img_562.jpg ../data/mnist/train/img_562.jpg\n",
      "9 img_58.jpg ../data/mnist/train/img_58.jpg\n",
      "9 img_71.jpg ../data/mnist/train/img_71.jpg\n",
      "9 img_83.jpg ../data/mnist/train/img_83.jpg\n",
      "9 img_85.jpg ../data/mnist/train/img_85.jpg\n",
      "9 img_86.jpg ../data/mnist/train/img_86.jpg\n",
      "9 img_88.jpg ../data/mnist/train/img_88.jpg\n",
      "9 img_95.jpg ../data/mnist/train/img_95.jpg\n"
     ]
    }
   ],
   "source": [
    "output_dir = \"../data/mnist/train/\"\n",
    "with open(os.path.join(output_dir, \"labels.csv\"), \"w\", newline=\"\") as f:\n",
    "    writer = csv.writer(f)\n",
    "    for file in glob.glob(r\"C:\\Users\\E8J0G0K\\Downloads\\archive\\trainingSample\\trainingSample\\*\\*.jpg\"):\n",
    "        label = os.path.basename(os.path.dirname(file))\n",
    "        name = os.path.basename(file)\n",
    "        output_path = os.path.join(output_dir, name)\n",
    "        print(label, name, output_path)\n",
    "        if not os.path.exists(output_dir):\n",
    "            os.makedirs(output_dir)\n",
    "        img = cv2.imread(file)\n",
    "        # cv2.imwrite(output_path, img)\n",
    "        writer.writerow([name, label])"
   ],
   "metadata": {
    "collapsed": false
   }
  },
  {
   "cell_type": "code",
   "execution_count": null,
   "outputs": [],
   "source": [],
   "metadata": {
    "collapsed": false
   }
  },
  {
   "cell_type": "code",
   "execution_count": null,
   "outputs": [],
   "source": [],
   "metadata": {
    "collapsed": false
   }
  },
  {
   "cell_type": "code",
   "execution_count": null,
   "outputs": [],
   "source": [],
   "metadata": {
    "collapsed": false
   }
  },
  {
   "cell_type": "code",
   "execution_count": null,
   "outputs": [],
   "source": [],
   "metadata": {
    "collapsed": false
   }
  },
  {
   "cell_type": "markdown",
   "source": [
    "Have a look at:"
   ],
   "metadata": {
    "collapsed": false
   }
  },
  {
   "cell_type": "code",
   "execution_count": null,
   "outputs": [],
   "source": [
    "from ignite.engine import create_supervised_trainer, create_supervised_evaluator, Events\n",
    "from ignite.metrics import Accuracy\n",
    "\n",
    "\n",
    "def train_on_single_fold(*args, fold_index=0, **kwargs):\n",
    "\n",
    "    train_loader, val_loader = get_dataflow(fold_index=fold_index, **kwargs)\n",
    "    model, optimizer, criterion, lr_scheduler = initialize_model(**kwargs)\n",
    "    metrics = {\n",
    "         \"accuracy\": Accuracy(),\n",
    "    }\n",
    "\n",
    "    trainer = create_supervised_trainer(model, optimizer, criterion)\n",
    "\n",
    "    @trainer.on(Events.EPOCH_COMPLETED)\n",
    "    def update_lr_scheduler(_):\n",
    "        lr_scheduler.step()\n",
    "\n",
    "    evaluator = create_supervised_evaluator(model, metrics=metrics)\n",
    "\n",
    "    @trainer.on(Events.ITERATION_COMPLETED(every=validate_every))\n",
    "    def validate(trainer):\n",
    "        evaluator.run(val_loader)\n",
    "        metrics = evaluator.state.metrics\n",
    "        print(\"After {} iterations, binary accuracy = {:.2f}\"\n",
    "              .format(trainer.state.iteration, metrics['accuracy']))\n",
    "\n",
    "    trainer.run(train_loader, max_epochs=kwargs.get(max_epochs, 100))"
   ],
   "metadata": {
    "collapsed": false
   }
  }
 ],
 "metadata": {
  "kernelspec": {
   "display_name": "Python 3",
   "language": "python",
   "name": "python3"
  },
  "language_info": {
   "codemirror_mode": {
    "name": "ipython",
    "version": 2
   },
   "file_extension": ".py",
   "mimetype": "text/x-python",
   "name": "python",
   "nbconvert_exporter": "python",
   "pygments_lexer": "ipython2",
   "version": "2.7.6"
  }
 },
 "nbformat": 4,
 "nbformat_minor": 0
}
