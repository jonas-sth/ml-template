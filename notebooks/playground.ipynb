{
 "cells": [
  {
   "cell_type": "markdown",
   "source": [
    "# This notebook is purely meant for testing things out"
   ],
   "metadata": {
    "collapsed": false
   }
  },
  {
   "cell_type": "code",
   "execution_count": 4,
   "outputs": [],
   "source": [
    "from src.s00_utils import *\n",
    "from src.s01_preparing import *\n",
    "from src.s02_customizing import *\n",
    "from src.s03_prototyping import configs\n",
    "from src.s04_training import *\n",
    "from src.s05_optimizing import *"
   ],
   "metadata": {
    "collapsed": false
   }
  },
  {
   "cell_type": "code",
   "execution_count": 5,
   "outputs": [],
   "source": [
    "my_config = configs.create_config()"
   ],
   "metadata": {
    "collapsed": false
   }
  },
  {
   "cell_type": "code",
   "execution_count": 17,
   "outputs": [
    {
     "name": "stdout",
     "output_type": "stream",
     "text": [
      "Compose(\n",
      "      ToTensor()\n",
      "      Grayscale(num_output_channels=1)\n",
      "      Normalize(mean=0.5, std=0.2)\n",
      "  )\n"
     ]
    }
   ],
   "source": [
    "print(str(my_config.data.transform).replace(\"\\n\", \"\\n  \"))"
   ],
   "metadata": {
    "collapsed": false
   }
  }
 ],
 "metadata": {
  "kernelspec": {
   "display_name": "Python 3",
   "language": "python",
   "name": "python3"
  },
  "language_info": {
   "codemirror_mode": {
    "name": "ipython",
    "version": 2
   },
   "file_extension": ".py",
   "mimetype": "text/x-python",
   "name": "python",
   "nbconvert_exporter": "python",
   "pygments_lexer": "ipython2",
   "version": "2.7.6"
  }
 },
 "nbformat": 4,
 "nbformat_minor": 0
}
